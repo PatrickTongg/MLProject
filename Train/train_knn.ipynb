{
 "cells": [
  {
   "cell_type": "code",
<<<<<<< HEAD
   "execution_count": 35,
=======
   "execution_count": 2,
>>>>>>> ef994509ecf801a3bdbe1688bb7fb79866967a82
   "metadata": {},
   "outputs": [],
   "source": [
    "import pandas as pd\n",
    "import numpy as np\n",
<<<<<<< HEAD
    "from sklearn.model_selection import train_test_split, GridSearchCV, RandomizedSearchCV\n",
    "from sklearn.preprocessing import StandardScaler\n",
    "from sklearn.decomposition import PCA\n",
    "from sklearn.neighbors import KNeighborsClassifier\n",
    "from sklearn.metrics import accuracy_score, classification_report, confusion_matrix\n",
    "import matplotlib.pyplot as plt"
=======
    "import matplotlib.pyplot as plt\n",
    "from sklearn.neighbors import KNeighborsClassifier\n",
    "from sklearn.metrics import f1_score\n",
    "from sklearn.model_selection import train_test_split"
>>>>>>> ef994509ecf801a3bdbe1688bb7fb79866967a82
   ]
  },
  {
   "cell_type": "code",
<<<<<<< HEAD
   "execution_count": 36,
=======
   "execution_count": 3,
>>>>>>> ef994509ecf801a3bdbe1688bb7fb79866967a82
   "metadata": {},
   "outputs": [
    {
     "data": {
      "text/html": [
       "<div>\n",
       "<style scoped>\n",
       "    .dataframe tbody tr th:only-of-type {\n",
       "        vertical-align: middle;\n",
       "    }\n",
       "\n",
       "    .dataframe tbody tr th {\n",
       "        vertical-align: top;\n",
       "    }\n",
       "\n",
       "    .dataframe thead th {\n",
       "        text-align: right;\n",
       "    }\n",
       "</style>\n",
       "<table border=\"1\" class=\"dataframe\">\n",
       "  <thead>\n",
       "    <tr style=\"text-align: right;\">\n",
       "      <th></th>\n",
<<<<<<< HEAD
       "      <th>target</th>\n",
       "      <th>var_0</th>\n",
       "      <th>var_1</th>\n",
       "      <th>var_2</th>\n",
       "      <th>var_3</th>\n",
       "      <th>var_4</th>\n",
       "      <th>var_5</th>\n",
       "      <th>var_6</th>\n",
       "      <th>var_7</th>\n",
       "      <th>var_8</th>\n",
       "      <th>...</th>\n",
       "      <th>var_190</th>\n",
       "      <th>var_191</th>\n",
       "      <th>var_192</th>\n",
       "      <th>var_193</th>\n",
       "      <th>var_194</th>\n",
       "      <th>var_195</th>\n",
       "      <th>var_196</th>\n",
       "      <th>var_197</th>\n",
       "      <th>var_198</th>\n",
       "      <th>var_199</th>\n",
=======
       "      <th>version https://git-lfs.github.com/spec/v1</th>\n",
>>>>>>> ef994509ecf801a3bdbe1688bb7fb79866967a82
       "    </tr>\n",
       "  </thead>\n",
       "  <tbody>\n",
       "    <tr>\n",
       "      <th>0</th>\n",
<<<<<<< HEAD
       "      <td>0</td>\n",
       "      <td>8.9255</td>\n",
       "      <td>-6.7863</td>\n",
       "      <td>11.9081</td>\n",
       "      <td>5.0930</td>\n",
       "      <td>11.4607</td>\n",
       "      <td>-9.2834</td>\n",
       "      <td>5.1187</td>\n",
       "      <td>18.6266</td>\n",
       "      <td>-4.9200</td>\n",
       "      <td>...</td>\n",
       "      <td>4.4354</td>\n",
       "      <td>3.9642</td>\n",
       "      <td>3.1364</td>\n",
       "      <td>1.6910</td>\n",
       "      <td>18.5227</td>\n",
       "      <td>-2.3978</td>\n",
       "      <td>7.8784</td>\n",
       "      <td>8.5635</td>\n",
       "      <td>12.7803</td>\n",
       "      <td>-1.0914</td>\n",
       "    </tr>\n",
       "    <tr>\n",
       "      <th>1</th>\n",
       "      <td>0</td>\n",
       "      <td>11.5006</td>\n",
       "      <td>-4.1473</td>\n",
       "      <td>13.8588</td>\n",
       "      <td>5.3890</td>\n",
       "      <td>12.3622</td>\n",
       "      <td>7.0433</td>\n",
       "      <td>5.6208</td>\n",
       "      <td>16.5338</td>\n",
       "      <td>3.1468</td>\n",
       "      <td>...</td>\n",
       "      <td>7.6421</td>\n",
       "      <td>7.7214</td>\n",
       "      <td>2.5837</td>\n",
       "      <td>10.9516</td>\n",
       "      <td>15.4305</td>\n",
       "      <td>2.0339</td>\n",
       "      <td>8.1267</td>\n",
       "      <td>8.7889</td>\n",
       "      <td>18.3560</td>\n",
       "      <td>1.9518</td>\n",
       "    </tr>\n",
       "    <tr>\n",
       "      <th>2</th>\n",
       "      <td>0</td>\n",
       "      <td>8.6093</td>\n",
       "      <td>-2.7457</td>\n",
       "      <td>12.0805</td>\n",
       "      <td>7.8928</td>\n",
       "      <td>10.5825</td>\n",
       "      <td>-9.0837</td>\n",
       "      <td>6.9427</td>\n",
       "      <td>14.6155</td>\n",
       "      <td>-4.9193</td>\n",
       "      <td>...</td>\n",
       "      <td>2.9057</td>\n",
       "      <td>9.7905</td>\n",
       "      <td>1.6704</td>\n",
       "      <td>1.6858</td>\n",
       "      <td>21.6042</td>\n",
       "      <td>3.1417</td>\n",
       "      <td>-6.5213</td>\n",
       "      <td>8.2675</td>\n",
       "      <td>14.7222</td>\n",
       "      <td>0.3965</td>\n",
       "    </tr>\n",
       "    <tr>\n",
       "      <th>3</th>\n",
       "      <td>0</td>\n",
       "      <td>11.0604</td>\n",
       "      <td>-2.1518</td>\n",
       "      <td>8.9522</td>\n",
       "      <td>7.1957</td>\n",
       "      <td>12.5846</td>\n",
       "      <td>-1.8361</td>\n",
       "      <td>5.8428</td>\n",
       "      <td>14.9250</td>\n",
       "      <td>-5.8609</td>\n",
       "      <td>...</td>\n",
       "      <td>4.4666</td>\n",
       "      <td>4.7433</td>\n",
       "      <td>0.7178</td>\n",
       "      <td>1.4214</td>\n",
       "      <td>23.0347</td>\n",
       "      <td>-1.2706</td>\n",
       "      <td>-2.9275</td>\n",
       "      <td>10.2922</td>\n",
       "      <td>17.9697</td>\n",
       "      <td>-8.9996</td>\n",
       "    </tr>\n",
       "    <tr>\n",
       "      <th>4</th>\n",
       "      <td>0</td>\n",
       "      <td>9.8369</td>\n",
       "      <td>-1.4834</td>\n",
       "      <td>12.8746</td>\n",
       "      <td>6.6375</td>\n",
       "      <td>12.2772</td>\n",
       "      <td>2.4486</td>\n",
       "      <td>5.9405</td>\n",
       "      <td>19.2514</td>\n",
       "      <td>6.2654</td>\n",
       "      <td>...</td>\n",
       "      <td>-1.4905</td>\n",
       "      <td>9.5214</td>\n",
       "      <td>-0.1508</td>\n",
       "      <td>9.1942</td>\n",
       "      <td>13.2876</td>\n",
       "      <td>-1.5121</td>\n",
       "      <td>3.9267</td>\n",
       "      <td>9.5031</td>\n",
       "      <td>17.9974</td>\n",
       "      <td>-8.8104</td>\n",
       "    </tr>\n",
       "  </tbody>\n",
       "</table>\n",
       "<p>5 rows × 201 columns</p>\n",
       "</div>"
      ],
      "text/plain": [
       "   target    var_0   var_1    var_2   var_3    var_4   var_5   var_6    var_7  \\\n",
       "0       0   8.9255 -6.7863  11.9081  5.0930  11.4607 -9.2834  5.1187  18.6266   \n",
       "1       0  11.5006 -4.1473  13.8588  5.3890  12.3622  7.0433  5.6208  16.5338   \n",
       "2       0   8.6093 -2.7457  12.0805  7.8928  10.5825 -9.0837  6.9427  14.6155   \n",
       "3       0  11.0604 -2.1518   8.9522  7.1957  12.5846 -1.8361  5.8428  14.9250   \n",
       "4       0   9.8369 -1.4834  12.8746  6.6375  12.2772  2.4486  5.9405  19.2514   \n",
       "\n",
       "    var_8  ...  var_190  var_191  var_192  var_193  var_194  var_195  var_196  \\\n",
       "0 -4.9200  ...   4.4354   3.9642   3.1364   1.6910  18.5227  -2.3978   7.8784   \n",
       "1  3.1468  ...   7.6421   7.7214   2.5837  10.9516  15.4305   2.0339   8.1267   \n",
       "2 -4.9193  ...   2.9057   9.7905   1.6704   1.6858  21.6042   3.1417  -6.5213   \n",
       "3 -5.8609  ...   4.4666   4.7433   0.7178   1.4214  23.0347  -1.2706  -2.9275   \n",
       "4  6.2654  ...  -1.4905   9.5214  -0.1508   9.1942  13.2876  -1.5121   3.9267   \n",
       "\n",
       "   var_197  var_198  var_199  \n",
       "0   8.5635  12.7803  -1.0914  \n",
       "1   8.7889  18.3560   1.9518  \n",
       "2   8.2675  14.7222   0.3965  \n",
       "3  10.2922  17.9697  -8.9996  \n",
       "4   9.5031  17.9974  -8.8104  \n",
       "\n",
       "[5 rows x 201 columns]"
      ]
     },
     "execution_count": 36,
=======
       "      <td>oid sha256:704545baab73fe42e2b3bcc7eb0aac3d2df...</td>\n",
       "    </tr>\n",
       "    <tr>\n",
       "      <th>1</th>\n",
       "      <td>size 302133017</td>\n",
       "    </tr>\n",
       "  </tbody>\n",
       "</table>\n",
       "</div>"
      ],
      "text/plain": [
       "          version https://git-lfs.github.com/spec/v1\n",
       "0  oid sha256:704545baab73fe42e2b3bcc7eb0aac3d2df...\n",
       "1                                     size 302133017"
      ]
     },
     "execution_count": 3,
>>>>>>> ef994509ecf801a3bdbe1688bb7fb79866967a82
     "metadata": {},
     "output_type": "execute_result"
    }
   ],
   "source": [
<<<<<<< HEAD
    "data = pd.read_csv('../Data/santander-customer-transaction-prediction/train.csv')\n",
    "data.drop('ID_code', axis=1, inplace=True)\n",
    "data.head()"
=======
    "raw_data = pd.read_csv('../Data/santander-customer-transaction-prediction/train.csv')\n",
    "raw_data.head()"
>>>>>>> ef994509ecf801a3bdbe1688bb7fb79866967a82
   ]
  },
  {
   "cell_type": "code",
<<<<<<< HEAD
   "execution_count": 37,
   "metadata": {},
   "outputs": [
    {
     "name": "stdout",
     "output_type": "stream",
     "text": [
      "<class 'pandas.core.frame.DataFrame'>\n",
      "RangeIndex: 200000 entries, 0 to 199999\n",
      "Columns: 201 entries, target to var_199\n",
      "dtypes: float64(200), int64(1)\n",
      "memory usage: 306.7 MB\n"
     ]
    }
   ],
   "source": [
    "data.info()"
   ]
  },
  {
   "cell_type": "code",
   "execution_count": 38,
   "metadata": {},
   "outputs": [
    {
     "data": {
      "text/plain": [
       "target     0\n",
       "var_0      0\n",
       "var_1      0\n",
       "var_2      0\n",
       "var_3      0\n",
       "          ..\n",
       "var_195    0\n",
       "var_196    0\n",
       "var_197    0\n",
       "var_198    0\n",
       "var_199    0\n",
       "Length: 201, dtype: int64"
      ]
     },
     "execution_count": 38,
     "metadata": {},
     "output_type": "execute_result"
    }
   ],
   "source": [
    "data.isnull().sum()"
   ]
  },
  {
   "cell_type": "code",
   "execution_count": 39,
   "metadata": {},
   "outputs": [],
   "source": [
    "X = data.drop('target', axis=1)\n",
    "y = data['target']"
   ]
  },
  {
   "cell_type": "code",
   "execution_count": 40,
   "metadata": {},
   "outputs": [],
   "source": [
    "X_train, X_test, y_train, y_test = train_test_split(X, y, test_size=0.2, random_state=42, stratify=y)"
   ]
  },
  {
   "cell_type": "code",
   "execution_count": 41,
   "metadata": {},
   "outputs": [
    {
     "name": "stdout",
     "output_type": "stream",
     "text": [
      "Best Params (No PCA): {'n_neighbors': 7, 'weights': 'uniform'}\n"
     ]
    }
   ],
   "source": [
    "knn = KNeighborsClassifier()\n",
    "param_grid = {\n",
    "    'n_neighbors': [3, 5, 7],\n",
    "    'weights': ['uniform', 'distance']\n",
    "}\n",
    "# grid_knn = RandomizedSearchCV(knn, param_grid, n_iter=10, cv=5, scoring='accuracy', random_state=42)\n",
    "\n",
    "grid_knn = GridSearchCV(knn, param_grid, cv=5, scoring='accuracy', n_jobs=-1)\n",
    "\n",
    "X_train_small, _, y_train_small, _ = train_test_split(X_train, y_train, train_size=0.5, random_state=42)\n",
    "grid_knn.fit(X_train_small, y_train_small)\n",
    "\n",
    "print(\"Best Params (No PCA):\", grid_knn.best_params_)\n",
    "knn_best = grid_knn.best_estimator_\n",
    "y_pred = knn_best.predict(X_test)"
   ]
  },
  {
   "cell_type": "code",
   "execution_count": 42,
   "metadata": {},
   "outputs": [
    {
     "name": "stdout",
     "output_type": "stream",
     "text": [
      "KNN (No PCA) Results:\n",
      "Accuracy: 0.89935\n",
      "Confusion Matrix:\n",
      " [[35970    10]\n",
      " [ 4016     4]]\n",
      "Classification Report:\n",
      "               precision    recall  f1-score   support\n",
      "\n",
      "           0       0.90      1.00      0.95     35980\n",
      "           1       0.29      0.00      0.00      4020\n",
      "\n",
      "    accuracy                           0.90     40000\n",
      "   macro avg       0.59      0.50      0.47     40000\n",
      "weighted avg       0.84      0.90      0.85     40000\n",
      "\n"
     ]
    }
   ],
   "source": [
    "print(\"KNN (No PCA) Results:\")\n",
    "print(\"Accuracy:\", accuracy_score(y_test, y_pred))\n",
    "print(\"Confusion Matrix:\\n\", confusion_matrix(y_test, y_pred))\n",
    "print(\"Classification Report:\\n\", classification_report(y_test, y_pred))"
   ]
  },
  {
   "cell_type": "code",
   "execution_count": 43,
   "metadata": {},
   "outputs": [],
   "source": [
    "scaler = StandardScaler()\n",
    "X_train_scaled = scaler.fit_transform(X_train)\n",
    "X_test_scaled = scaler.transform(X_test)"
   ]
  },
  {
   "cell_type": "code",
   "execution_count": 44,
   "metadata": {},
   "outputs": [],
   "source": [
    "pca = PCA()\n",
    "X_train_pca = pca.fit_transform(X_train_scaled)\n",
    "X_test_pca = pca.transform(X_test_scaled)"
   ]
  },
  {
   "cell_type": "code",
   "execution_count": 45,
   "metadata": {},
   "outputs": [
    {
     "data": {
      "image/png": "iVBORw0KGgoAAAANSUhEUgAAA04AAAIjCAYAAAA0vUuxAAAAOXRFWHRTb2Z0d2FyZQBNYXRwbG90bGliIHZlcnNpb24zLjkuMiwgaHR0cHM6Ly9tYXRwbG90bGliLm9yZy8hTgPZAAAACXBIWXMAAA9hAAAPYQGoP6dpAACIu0lEQVR4nO3dd3hU1dbH8d8kpAIJNSTU0KVXQUBAITQRBEUQUIqIV4oNUQxKl6oiKCiWi6iIIgI2NEjnIgGUHlQQpCiEIgihJ8zs9w/eDAypk8xkUr6f58m9zDl7zlmzcmaclX323hZjjBEAAAAAIEVeng4AAAAAALI7CicAAAAASAOFEwAAAACkgcIJAAAAANJA4QQAAAAAaaBwAgAAAIA0UDgBAAAAQBoonAAAAAAgDRROAAAAAJAGCicAaerXr5/Cw8Mz9Nzw8HD169fPpfGkV2bidpfsGBMyb+zYsbJYLPrnn388HUq6/Pzzz2ratKny588vi8WiHTt2eDokAMj2KJyAHGLevHmyWCwp/mzatMnTIeY4J0+eVL58+fTwww+n2Ob8+fMKCAjQ/fffn4WRITn9+vWTxWJR7dq1ZYxJst9isWjo0KEeiCxnSUhI0IMPPqgzZ87ojTfe0CeffKJy5col23bt2rUOnzM+Pj6qUKGC+vTpoz///DNJ+7i4OI0bN0516tRRgQIFFBAQoJo1a2rEiBE6duxYsufo3r27LBaLRowY4fRruXLlit544w01btxYwcHB8vf3V5UqVTR06FDt27fP6ePB0a+//qqxY8fq0KFDng4FyBbyeToAAM4ZP368ypcvn2R7pUqVPBBN2vbu3Ssvr+z5N5qQkBC1adNGX3/9tS5duqTAwMAkbZYsWaIrV66kWlw54/3335fNZnPJsfKq3bt3a8mSJXrggQc8HUqOdODAAR0+fFjvv/++HnvssXQ956mnntLtt9+uhIQEbdu2Te+9956WLVum3bt3q2TJkpKkP//8UxERETpy5IgefPBBPf744/L19dWuXbv03//+V0uXLk1SzMTFxenbb79VeHi4PvvsM02ZMkUWiyVdMf3zzz9q3769tm7dqnvvvVe9evVSgQIFtHfvXn3++ed67733FB8f71xy4ODXX3/VuHHjdNddd9FTDojCCchxOnTooIYNG3o6jHTz8/PzdAip6t27t6KiovTNN9/ooYceSrJ/wYIFCg4OVseOHTN1nosXLyp//vzy8fHJ1HHyuoCAAJUpU0bjx4/X/fffn+4v2blFSgW+M06ePClJKlSoULqf07x5c3Xr1k2S1L9/f1WpUkVPPfWUPvroI0VGRuratWu6//77deLECa1du1Z33nmnw/MnTpyoqVOnJjnu4sWLZbVaNXfuXLVq1Urr169Xy5Yt0xVTv379tH37dn355ZdJiugJEybopZdeSvfrA4D0yJ5/BgaQYWPGjJGXl5dWrVrlsD3xr787d+6UdOMWnIULF2rkyJEKDQ1V/vz51blzZ/31119pnue1115T06ZNVbRoUQUEBKhBgwb68ssvk7S7dYxT4i2HP/30k4YNG6bixYsrf/786tq1q06dOpXk+T/88IOaN2+u/Pnzq2DBgurYsaP27NmTpN1XX32lmjVryt/fXzVr1tTSpUvTfA2S1LVrV+XPn18LFixIsu/kyZNatWqVunXrJj8/P/3vf//Tgw8+qLJly8rPz09lypTRs88+q8uXLzs8r1+/fipQoIAOHDige+65RwULFlTv3r3t+279y216c5l4K1ria/Xz81ONGjUUFRWVpO3Ro0c1YMAAlSxZUn5+fipfvrwGDRrk8Bf4s2fP6plnnlGZMmXk5+enSpUqaerUqWn2iN17772qUKFCsvuaNGniUNivWLFCd955pwoVKqQCBQqoatWqGjlyZKrHT42Xl5defvll7dq1K83fceK1duttRonX/tq1a+3b7rrrLtWsWVO7du1Sy5YtFRgYqEqVKtl/D+vWrVPjxo0VEBCgqlWrauXKlcme859//lH37t0VFBSkokWL6umnn9aVK1eStJs/f74aNGiggIAAFSlSRA899FCS911iTFu3blWLFi0UGBiYZu5Wr15tf78UKlRI9913n3777Tf7/n79+tkLkwcffFAWi0V33XVXqsdMTqtWrSRJBw8elHS9ANq5c6deeumlJEWTJAUFBWnixIlJtn/66adq06aN7r77blWrVk2ffvppus6/efNmLVu2TAMGDEi259HPz0+vvfaaw7a0ciPdGKu2b98+PfzwwwoODlbx4sU1atQoGWP0119/6b777lNQUJBCQ0P1+uuvOzzf2c/VRYsW2a+DYsWK6eGHH9bRo0cd2iR+nhw9elRdunRRgQIFVLx4cQ0fPlxWq9Whrc1m04wZM1SjRg35+/urRIkS+s9//qN///3XoV14eLjuvfdebdiwQY0aNZK/v78qVKigjz/+2N5m3rx5evDBByVJd999t/12zcT3zS+//KJ27dqpWLFiCggIUPny5fXoo48m9+sCcg8DIEf48MMPjSSzcuVKc+rUKYeff/75x94uPj7e1KtXz5QrV87ExcUZY4yJiooyksyECRPs7dasWWMkmVq1apnatWub6dOnmxdffNH4+/ubKlWqmEuXLtnb9u3b15QrV84hntKlS5vBgwebWbNmmenTp5tGjRoZSea7775zaFeuXDnTt2/fJK+jXr16plWrVuatt94yzz33nPH29jbdu3d3eO7HH39sLBaLad++vXnrrbfM1KlTTXh4uClUqJA5ePCgvd3y5cuNl5eXqVmzppk+fbp56aWXTHBwsKlRo0aSuJPTq1cv4+vra06fPu2w/c033zSSzOrVq40xxjz55JPmnnvuMZMmTTLvvvuuGTBggPH29jbdunVzeF7fvn2Nn5+fqVixounbt6+ZM2eO+fjjjzOdS0mmTp06JiwszEyYMMHMmDHDVKhQwQQGBjpcA0ePHjUlS5Y0gYGB5plnnjFz5swxo0aNMtWqVTP//vuvMcaYixcvmtq1a5uiRYuakSNHmjlz5pg+ffoYi8Vinn766VTz9fHHHxtJZsuWLQ7bDx06ZCSZV1991RhjTExMjPH19TUNGzY0M2fONHPmzDHDhw83LVq0SPX4Kenbt6/Jnz+/uXbtmqlcubKpU6eOsdlsDvkZMmSI/XHitXbztWLMjWt/zZo19m0tW7Y0JUuWNGXKlDHPP/+8eeutt0z16tWNt7e3+fzzz01oaKgZO3asmTFjhilVqpQJDg62v7+MMWbMmDH291OnTp3MrFmzzMMPP2wkmUceecTh/K+88oqxWCymR48e5u233zbjxo0zxYoVM+Hh4fbfT2JMoaGhpnjx4ubJJ5807777rvnqq69SzM+KFStMvnz5TJUqVcy0adPsxy1cuLA9Bxs3bjQjR440ksxTTz1lPvnkE/Pjjz+meMzEXC1atMhh+9dff20kmRdffNEYc/09JMkcOXIkxWPd6ujRo8bLy8t88sknxhhjxo8fbwoXLmyuXr2a5nMTX8P69evTda705MaYG7/HunXrmp49e5q3337bdOzY0Ugy06dPN1WrVjWDBg0yb7/9tmnWrJmRZNatW2d/vjOfq4nX5+23327eeOMN8+KLL5qAgIAk10Hfvn2Nv7+/qVGjhnn00UfNO++8Yx544AEjybz99tsOr/Oxxx4z+fLlMwMHDjRz5swxI0aMMPnz5ze33367iY+Pt7crV66cqVq1qilRooQZOXKkmTVrlqlfv76xWCwmJibGGGPMgQMHzFNPPWUkmZEjR5pPPvnEfPLJJ+b48ePmxIkTpnDhwqZKlSrm1VdfNe+//7556aWXTLVq1dL1+wByKgonIIdI/I9scj9+fn4ObXfv3m18fX3NY489Zv79919TqlQp07BhQ5OQkGBvk/gf+FKlSjl8Afziiy+MJDNz5kz7tuS+7N/8BcCY6wVbzZo1TatWrRy2p1Q4RUREOHzpffbZZ423t7c5e/asMcaY8+fPm0KFCpmBAwc6HO/48eMmODjYYXvdunVNWFiY/bnGGPPjjz8aSekqnJYtW2YkmXfffddh+x133GFKlSplrFZrsq/ZGGMmT55sLBaLOXz4sH1b3759Hb5U3iwzuZRkfH19zf79++3bdu7caSSZt956y76tT58+xsvLy/z8889Jzp+Y8wkTJpj8+fObffv2Oex/8cUXjbe3d6pfgM+dO2f8/PzMc88957B92rRpDrl44403jCRz6tSpFI/ljMTCyRhjPvroIyPJLFmyxL4/s4WTJLNgwQL7tt9//91IMl5eXmbTpk327cuXLzeSzIcffmjflviFu3Pnzg7nGjx4sJFkdu7caYy5Xlx6e3ubiRMnOrTbvXu3yZcvn8P2xJjmzJmTrvzUrVvXhISEOPwBYOfOncbLy8v06dMnyeu/tRhKTmLbuXPnmlOnTpljx46ZZcuWmfDwcGOxWOzXWL169UxwcHC64kz02muvmYCAAPvnz759+4wks3Tp0jSf27VrVyPJocBITXpzk/h7fPzxx+3brl27ZkqXLm0sFouZMmWKffu///5rAgICHD7f0vu5Gh8fb0JCQkzNmjXN5cuX7e2+++47I8mMHj3avi3x82T8+PEOr6levXqmQYMG9sf/+9//jCTz6aefOrRL/MPZzdvLlSuXpPA8efJkkvf1okWLkrxXjDFm6dKlRlKynzFAbsatekAOM3v2bK1YscLh54cffnBoU7NmTY0bN04ffPCB2rVrp3/++UcfffSR8uVLOqyxT58+KliwoP1xt27dFBYWpu+//z7VOAICAuz//vfff3Xu3Dk1b95c27ZtS9frePzxxx3GpzRv3lxWq1WHDx+WdP0Wr7Nnz6pnz576559/7D/e3t5q3Lix1qxZI0mKjY3Vjh071LdvXwUHB9uP16ZNG1WvXj1dsbRt21bFixd3uF3v4MGD2rRpk3r27Gmf3OLm13zx4kX9888/atq0qYwx2r59e5LjDho0KF3ndyaXERERqlixov1x7dq1FRQUZJ/hzGaz6auvvlKnTp2SHQuXmPNFixapefPmKly4sEN+IyIiZLVatX79+hTjDQoKUocOHfTFF184zG63cOFC3XHHHSpbtqykG2Novv76a5dPiNG7d29VrlxZ48ePT3aGvYwoUKCAwzi3qlWrqlChQqpWrZoaN25s35747+RmlRsyZIjD4yeffFKS7O+nJUuWyGazqXv37g55Dw0NVeXKle3XdSI/Pz/1798/zdgT3wf9+vVTkSJF7Ntr166tNm3apPl+Tsujjz6q4sWLq2TJkurYsaMuXryojz76yH6NxcXFOXyOpMenn36qjh072p9XuXJlNWjQIF2368XFxUlSus6ZkdzcPGmGt7e3GjZsKGOMBgwYYN9eqFAhVa1aNdnrIK3P1V9++UUnT57U4MGD5e/vb2/XsWNH3XbbbVq2bFmSYz7xxBMOj5s3b+5w7kWLFik4OFht2rRxuLYaNGigAgUKJLm2qlevrubNm9sfFy9ePMXXc6vE9/Z3332nhISENNsDuQWTQwA5TKNGjdI1OcTzzz+vzz//XFu2bNGkSZNSLCIqV67s8NhisahSpUppTj/73Xff6ZVXXtGOHTt09epVh+enR+KX60SFCxeWJPu9+H/88YekG2MpbhUUFCRJ9kLr1tchXf/im55CLl++fOrRo4fefvttHT16VKVKlbIXUYljkyTpyJEjGj16tL755pskYwbOnTuX5JilS5dO89ySc7m8NW/S9dwlxnPq1CnFxcWpZs2aqZ7zjz/+0K5du1S8ePFk9ydOIJCSHj166KuvvlJ0dLSaNm2qAwcOaOvWrZoxY4ZDmw8++ECPPfaYXnzxRbVu3Vr333+/unXrlumZFr29vfXyyy+rb9+++uqrr9S1a9dMHU+SSpcunSTnwcHBKlOmTJJtkpJcA1LS67BixYry8vKyv5/++OMPGWOSvV4lJZk8pFSpUvL19U0z9sT3QdWqVZPsq1atmpYvX26foCQjRo8erebNm8vb21vFihVTtWrVHP4Qc3Pxnh6//fabtm/frj59+mj//v327XfddZdmz56tuLg4+3s8OYn7zp8/n+YkFxnJza3vs8SpzosVK5Zk++nTp5McN63P1dRiuu2227RhwwaHbf7+/kneqze/76Xr19a5c+cUEhKS5JhS0vd0Wp8lqWnZsqUeeOABjRs3Tm+88YbuuusudenSRb169cr2EwIBmUHhBORSf/75p7342L17t0uP/b///U+dO3dWixYt9PbbbyssLEw+Pj768MMPk51kITne3t7Jbk/sPUjsofjkk08UGhqapF1yvWeZ8fDDD2vWrFn67LPPNHz4cH322WeqXr266tatK0myWq1q06aNzpw5oxEjRui2225T/vz5dfToUfXr1y9Jj4qfn1+6igNnc5lW3tLLZrOpTZs2euGFF5LdX6VKlVSf36lTJwUGBuqLL75Q06ZN9cUXX8jLy8s+mFy63pO2fv16rVmzRsuWLVNUVJQWLlyoVq1a6ccff0zxtaRX7969NWHCBI0fP15dunRJsj+lIv7WAfWJUoonMzm/NQabzSaLxaIffvgh2eMWKFDA4fHNvZGeVKtWLUVERKS4/7bbbtP27dv1119/JSk0kzN//nxJ0rPPPqtnn302yf7Fixen2tN22223Sbr+2XZzr4mrJPe7cdV7LyPS816x2WwKCQlJscfu1sIrs9f1l19+qU2bNunbb7/V8uXL9eijj+r111/Xpk2bklzHQG5B4QTkQjabTf369VNQUJCeeeYZTZo0Sd26dUt2EdfE4iqRMUb79+9X7dq1Uzz+4sWL5e/vr+XLlzv8dfHDDz902WtIvB0tJCQk1S9siQt33vo6pOtrSKVX48aNVbFiRS1YsEBt2rTRnj17HGYB2717t/bt26ePPvpIffr0sW9fsWJFus+RHFfnsnjx4goKClJMTEyq7SpWrKgLFy6kmtvU5M+fX/fee68WLVqk6dOna+HChWrevLl9TZ9EXl5eat26tVq3bq3p06dr0qRJeumll7RmzZoMnztRYq9Tv3799PXXXyfZn9iLefbsWYftiX/td4c//vjDYZ21/fv3y2az2WdSrFixoowxKl++fJrFqTMS3wfJXfO///67ihUrluHepvTo1KmTPvvsM82fP1+RkZGptjXGaMGCBbr77rs1ePDgJPsnTJigTz/9NNXCqVOnTpo8ebLmz5+fZuHkidyk9bl6c0y39qrv3bs3xQWJU1OxYkWtXLlSzZo1c1nBndYdBHfccYfuuOMOTZw4UQsWLFDv3r31+eefp3t9MCCnYYwTkAtNnz5dGzdu1HvvvacJEyaoadOmGjRokP75558kbT/++GOdP3/e/vjLL79UbGysOnTokOLxvb29ZbFYHP5yf+jQIX311Vcuew3t2rVTUFCQJk2alOw99IlTl4eFhalu3br66KOPHG6XW7FihX799Venztm7d29t375dY8aMkcViUa9evez7Ev86e/NfY40xmjlzplPnuJWrc+nl5aUuXbro22+/1S+//JJkf2L83bt3V3R0tJYvX56kzdmzZ3Xt2rU0z9WjRw8dO3ZMH3zwgXbu3KkePXo47D9z5kyS5yT24N18S+Lvv/+uI0eOpHm+5Dz88MOqVKmSxo0bl2RfYvF983gtq9Wq9957L0PnSo/Zs2c7PH7rrbckyf5+uv/+++Xt7a1x48Yl+cu+MSbZ277S4+b3wc2FYkxMjH788Ufdc889GTpuenXr1k21atXSxIkTFR0dnWT/+fPn7esq/fTTTzp06JD69++vbt26Jfnp0aOH1qxZo2PHjqV4viZNmqh9+/b64IMPkn2vxMfHa/jw4ZI8k5u0PlcbNmyokJAQzZkzx+G98MMPP+i3337L0Lpx3bt3l9Vq1YQJE5Lsu3btWpI/IKRHYkF563P//fffJNdvcu9tILehxwnIYX744Qf9/vvvSbY3bdpUFSpU0G+//aZRo0apX79+6tSpk6Tr63HUrVtXgwcP1hdffOHwvCJFiujOO+9U//79deLECc2YMUOVKlXSwIEDU4yhY8eOmj59utq3b69evXrp5MmTmj17tipVqqRdu3a55HUGBQXpnXfe0SOPPKL69evroYceUvHixXXkyBEtW7ZMzZo106xZsyRJkydPVseOHXXnnXfq0Ucf1ZkzZ/TWW2+pRo0aunDhQrrP+fDDD2v8+PH6+uuv1axZM4f1lm677TZVrFhRw4cP19GjRxUUFKTFixenazxAatyRy0mTJunHH39Uy5Yt9fjjj6tatWqKjY3VokWLtGHDBhUqVEjPP/+8vvnmG917773q16+fGjRooIsXL2r37t368ssvdejQoSTjOW6VuEbV8OHD5e3tnWQ9nfHjx2v9+vXq2LGjypUrp5MnT+rtt99W6dKlHdb6qVatmlq2bOmwrlJ6eXt766WXXkq2d6JGjRq64447FBkZqTNnzqhIkSL6/PPP01UUZtTBgwfVuXNntW/fXtHR0Zo/f7569eqlOnXqSLpezL3yyiuKjIzUoUOH1KVLFxUsWFAHDx7U0qVL9fjjj9u/8Dvr1VdfVYcOHdSkSRMNGDBAly9f1ltvvaXg4GCNHTvWha8yKR8fHy1ZskQRERFq0aKFunfvrmbNmsnHx0d79uzRggULVLhwYU2cOFGffvqpvL29UywOOnfurJdeekmff/65hg0bluI5P/74Y7Vt21b333+/OnXqpNatWyt//vz6448/9Pnnnys2Nta+llNW5yatz1UfHx9NnTpV/fv3V8uWLdWzZ0+dOHFCM2fOVHh4eLK3L6alZcuW+s9//qPJkydrx44datu2rXx8fPTHH39o0aJFmjlzpn0R4/SqW7euvL29NXXqVJ07d05+fn5q1aqVFixYoLfffltdu3ZVxYoVdf78eb3//vsKCgpye5EOeFTWTuIHIKNSm45c/z818rVr18ztt99uSpcu7TA1tzHGzJw500gyCxcuNMbcmDb3s88+M5GRkSYkJMQEBASYjh07OkytbUzyU2j/97//NZUrVzZ+fn7mtttuMx9++KF9Kt+bpTQd+a3T2CY3RXTi9nbt2png4GDj7+9vKlasaPr162d++eUXh3aLFy821apVM35+fqZ69epmyZIlycadlttvvz3Z9VGMMebXX381ERERpkCBAqZYsWJm4MCB9unAb56a+uZps2+VmVzqlum2E92aY2OMOXz4sOnTp48pXry48fPzMxUqVDBDhgxxWCPn/PnzJjIy0lSqVMn4+vqaYsWKmaZNm5rXXnvNYc2X1PTu3ds+vfytVq1aZe677z5TsmRJ4+vra0qWLGl69uyZZAp0SaZly5ZpniulvCYkJJiKFSsmm58DBw6YiIgI4+fnZ1+zZsWKFclOR16jRo0kxy5Xrpzp2LFjku23nivx9/Xrr7+abt26mYIFC5rChQuboUOHOkw3nWjx4sXmzjvvNPnz5zf58+c3t912mxkyZIjZu3dvmjGlZuXKlaZZs2YmICDABAUFmU6dOplff/3VoU1GpiNPT1tjrk/RPXr0aFOrVi0TGBho/P39Tc2aNU1kZKSJjY018fHxpmjRoqZ58+apHqd8+fKmXr16aZ7v0qVL5rXXXjO33367KVCggPH19TWVK1c2Tz75pMO0/cakLzeJv8dbp9BP6dq79XfkzOeqMcYsXLjQ1KtXz/j5+ZkiRYqY3r17m7///jtd507uM8IYY9577z3ToEEDExAQYAoWLGhq1aplXnjhBXPs2DF7m5Su65YtWyZ5L77//vumQoUKxtvb2/6+2bZtm+nZs6cpW7as8fPzMyEhIebee+9N8rkM5DYWY7JgVCOAbGft2rW6++67tWjRIqf/CgkASIrPVSB3Y4wTAAAAAKSBwgkAAAAA0kDhBAAAAABpYIwTAAAAAKSBHicAAAAASAOFEwAAAACkIc8tgGuz2XTs2DEVLFhQFovF0+EAAAAA8BBjjM6fP6+SJUvKyyv1PqU8VzgdO3ZMZcqU8XQYAAAAALKJv/76S6VLl061TZ4rnAoWLCjpenKCgoI8HI2UkJCgH3/8UW3btpWPj4+nw8l1yK/7kWP3Ir/uR47di/y6Hzl2L/Lrfp7McVxcnMqUKWOvEVKT5wqnxNvzgoKCsk3hFBgYqKCgIN6MbkB+3Y8cuxf5dT9y7F7k1/3IsXuRX/fLDjlOzxAeJocAAAAAgDRQOAEAAABAGiicAAAAACANeW6MU3oYY3Tt2jVZrVa3nyshIUH58uXTlStXsuR8eU1W59fHx0fe3t5uPw8AAACyFoXTLeLj4xUbG6tLly5lyfmMMQoNDdVff/3FulJukNX5tVgsKl26tAoUKOD2cwEAACDrUDjdxGaz6eDBg/L29lbJkiXl6+vr9i/bNptNFy5cUIECBdJcdAvOy8r8GmN06tQp/f3336pcuTI9TwAAALkIhdNN4uPjZbPZVKZMGQUGBmbJOW02m+Lj4+Xv70/h5AZZnd/ixYvr0KFDSkhIoHACAADIRfimngwKGGQUt1sCAADkTlQIAAAAAJAGCicAAAAASAOFE3KU8PBwzZgxw9NhAAAAII+hcMolzp8/r2eeeUblypVTQECAmjZtqp9//tmhTb9+/WSxWBx+2rdvb99/9epVPfLIIwoKClKVKlW0cuVKh+e/+uqrevLJJ1ON48knn1S1atWS3XfkyBF5e3vrm2++yeCrlH7++Wc9/vjjGX4+AAAAkBEUTrnEY489phUrVuiTTz7R7t271bZtW0VEROjo0aMO7dq3b6/Y2Fj7z2effWbf995772nr1q2Kjo7W448/rl69eskYI0k6ePCg3n//fU2cODHVOAYMGKDff/9dGzduTLJv3rx5CgkJ0T333OP064uPj5d0fda6rJrxEAAAAEhE4ZReFy+m/HPlSvrbXr6cvrZOuHz5shYvXqxp06apRYsWqlSpksaOHatKlSrpnXfecWjr5+en0NBQ+0/hwoXt+3777Td17txZNWrU0JAhQ3Tq1Cn9888/kqRBgwZp6tSpCgoKSjWWunXrqn79+po7d67DdmOM5s2bp759+8pisWjAgAEqX768AgICVLVqVc2cOdOhfb9+/dSlSxdNnDhRJUuWVNWqVSUlvVVv+vTpqlWrlvLnz68yZcpo8ODBunDhgn3/vHnzVK5cOS1fvlzVqlVTgQIF7MXjzebOnasaNWrIz89PYWFhGjp0qH3f2bNn9dhjj6l48eIKCgpSq1attHPnzlTzAAAAgKSsNqPoA6f19Y6jij5wWlab8XRI6ebRwmn9+vXq1KmTSpYsKYvFoq+++irN56xdu1b169eXn5+fKlWqpHnz5rk9TklSgQIp/zzwgGPbkJCU23bo4NDUUqGCCpUuLa+gIMd2Trh27ZqsVqv8/f0dtgcEBGjDhg0O29auXauQkBBVrVpVgwYN0unTp+376tSpow0bNujy5ctavny5wsLCVKxYMX366afy9/dX165d0xXPgAED9MUXX+jiTQXg2rVrdfDgQT366KOy2WwqXbq0Fi1apF9//VWjR4/WyJEj9cUXXzgcZ9WqVdq7d69WrFih7777LtlzeXl56c0339SePXv00UcfafXq1XrhhRcc2ly+fFmvv/66PvnkE61fv15HjhzR8OHD7fvfeecdDRkyRI8//rh2796tb775RpUqVbLvf/DBB3Xy5En98MMP2rp1q+rXr6/WrVvrzJkz6coHAAAApKiYWN05dbV6vr9JT3++Qz3f36Q7p67W8j0nPB1auni0cLp48aLq1Kmj2bNnp6v9wYMH1bFjR919993asWOHnnnmGT322GNavny5myPN3goWLKgmTZpowoQJOnbsmKxWq+bPn6/o6GiHnpX27dvr448/1qpVqzR16lStW7dOHTp0kNVqlSQ9+uijqlOnjqpXr66JEyfqiy++0L///qvRo0frrbfe0ssvv6xKlSqpXbt2SW4BvFmvXr2UkJCgRYsW2bd9+OGHuvPOO1WlShX5+Pho3LhxatiwocqXL6/evXurf//+SQqn/Pnz64MPPlCNGjVUo0aNZM/1zDPP6O6771Z4eLhatWqlV155JclxEhIS9M4776hhw4aqX7++hg4dqlWrVtn3v/LKK3ruuef09NNPq0qVKrr99tv1zDPPSJI2bNigLVu2aNGiRWrYsKEqV66s1157TYUKFdKXX36Zvl8QAABAHma1Gc1c+YeemL9Nsecc79Q6fu6Knvx8p3aezv5rYebz5Mk7dOigDrf0wKRmzpw5Kl++vF5//XVJUrVq1bRhwwa98cYbateunbvCvO6m27+S8PZ2fHzyZMptb1lc1/z5p87FxSkoKChTC+9+8sknevTRR1WqVCl5e3urfv366tmzp7Zu3Wpv89BDD9n/XatWLdWuXVsVK1bU2rVr1bp1a/n4+CQpYvv376+nnnpK27dv11dffaWdO3dq2rRpeuqpp7R48eJkYylUqJDuv/9+zZ07V/369VNcXJwWL17scOzZs2dr7ty5OnLkiC5fvqz4+HjVrVvX4Ti1atWSr69vqq975cqVmjx5sn7//XfFxcXp2rVrunLlii5dumQfCxUYGKiKFSvanxMWFqaT//87OnnypI4dO6bWrVsne/ydO3fqwoULKlq0qMP2y5cv68CBA6nGBgAAkNdFxcRq7Dd7dDzuarL7jSSLpCWHvPSCzcgnS6NzjkcLJ2dFR0crIiLCYVu7du3svQPJuXr1qq5evfGLiouLk3S9FyIhIcGhbUJCgowxstlsstlsjgcKCEg9uJvbO9HWBAZKVqtMYKBsFkuybdKjfPnyWrNmjS5evKi4uDiFhYXpoYceUvny5ZO+lv8XHh6uYsWKad++fbr77ruT7F+zZo327Nmj9957Ty+88II6dOiggIAAdevWTbNmzUrxuNL1gqtNmzbat2+f1qxZI29vbz3wwAOy2Wz6/PPPNXz4cL322mu64447VLBgQb322mvasmWL/ZjGGAUGBiZ7jsTf0aFDh3TvvffqiSee0IQJE1SkSBFt2LBBAwcO1JUrV+y3LubLl8/+nMTnJz728/P7/3Qn8zvX9dkKw8LCtHr16iT7ChUqlOQ5NptNxhglJCTI+9aCOpdKfB/d+n6Ca5Bf9yPH7kV+3Y8cuxf5dZ7VZvTL4X+18reTmhd9JM32RtLZeIs2HTilZpVD3B/gTZz5veaowun48eMqUaKEw7YSJUooLi5Oly9fVkAyBcvkyZM1bty4JNt//PHHJLOz5cuXT6Ghobpw4YJ9Frescv78eZcdK3/+/Dpy5IiWL1+ucePG2YvFWx09elSnT59WcHBwkjZXrlzRkCFD9N577+nixYu6fPmyvLy8FBcXp7Nnz+ratWspHleSGjRooHLlyundd9/V//73P91///2yWq2Ki4vT2rVr1ahRI/Xu3dveft++ffb90vWLOLlz2Gw2XblyRXFxcdqwYYNsNptGjx5t7607dOiQpOv59PLy0pX/n7jj5vxe/v8JOhKPXbZsWf3www9q0KBBktdRtWpVHT9+XFeuXFHZsmWT7L81vvj4eF2+fFnr16/XtWvXUsxPbrRixQpPh5CrkV/3I8fuRX7djxy7F/lNn52nLVpyyEtn452/9W519Fad+yNrJ4u4dOlSutvmqMIpIyIjIzVs2DD747i4OJUpU0Zt27ZNMkPclStX9Ndff6lAgQJJJlpwF2OMzp8/r4IFC8piyfi9ncuXL5cxRlWrVtX+/fs1YsQIVatWTYMGDZKPj48uXLig8ePH6/7771doaKgOHDigF198UZUqVVLXrl3tPS+Jpk2bpo4dO+rOO++UJN11110aMWKEHn/8cc2bN0/NmjVLc4a9AQMG6I033tC///6rmTNn2tvXqFFDCxcuVHR0tMqXL6/58+dr+/btKl++vL2Nj4+P8uXLl+QcXl5e8vf3V1BQkGrVqqWEhAR9/PHHuvfee/XTTz/ZJwspWLCggoKC7L/Hm/ObWGAnHnvs2LEaPHiwypQpo/bt2+v8+fPauHGjhg4dqs6dO6tJkybq06ePpkyZoipVqujYsWP6/vvv1aVLFzVs2NAhvitXriggIEAtWrTIsmvI0xISErRixQq1adNGPj7ZuYM9ZyK/7keO3Yv8uh85di/ymzaHHqZ9afcwpaRVkwZZ3uOUWkfArXJU4RQaGqoTJxxn3Thx4oSCgoKS7W2Srk+/fWtRIF3/Yn7rxW+1WmWxWOTl5ZWp8UbOSLzVK/G8GXX+/HlFRkbq77//VpEiRfTAAw9o4sSJ9tfu4+Oj3bt36+OPP9bZs2dVsmRJtW3bVhMmTEiSu5iYGC1atEg7duywx9S9e3etX79eLVu2VNWqVbVgwYI04+3fv7/Gjh2rGjVqqEmTJvbtTzzxhHbs2KGePXvKYrGoZ8+eGjx4sH744Qf7MRMX6E3uHInb69Wrp+nTp2vatGkaOXKkWrRoocmTJ6tPnz5Jfoc3H+vW/+/fv7/i4+P1xhtv6Pnnn1exYsXUrVs3+/7vv/9eL730kgYMGKBTp04pNDRULVq0UFhYWJL4vLy8ZLFYkr2+cru8+JqzEvl1P3LsXuTX/cixe5Hf5EXFxGrct78mmfTBGRZJwb5Gd1QsnuU5duZ8FpO4wqmHWSwWLV26VF26dEmxzYgRI/T9999r9+7d9m29evXSmTNnFBUVla7zxMXFKTg4WOfOnUu2x+ngwYMqX758lvUW2Gw2xblgcggkL6vz64lryNMSEhL0/fff65577uE/KG5Aft2PHLsX+XU/cuxe5Dd5VpvRrNX79cbKfZk+lkVS/ypWRT7SIctznFptcCuP9jhduHBB+/fvtz8+ePCgduzYoSJFiqhs2bKKjIzU0aNH9fHHH0u63lMxa9YsvfDCC3r00Ue1evVqffHFF1q2bJmnXgIAAACQp6Q1U54zwoL99VKHqrIe3pp2Yw/zaOH0yy+/OMzmljgWqW/fvpo3b55iY2N15MiN+yTLly+vZcuW6dlnn9XMmTNVunRpffDBB+6fihwAAADIw6w2oy0Hz2jFr8c196dDLjnmsxGVNbRVZdms1/T9YZcc0q08WjjdddddSu1OwcSB/rc+Z/v27W6MCgAAAEAiV4xjullYsL/GdKqu9jXDJEk2q0sO63Y5anIIAAAAAFnDleOYJGlAs3BFVA9Vo/JF5O2V8dmkPYXCKRnZZL4M5EBcOwAAIDdw9Timm3uYcioKp5skzuJx6dKlFKc3B1KTuHCyt7e3hyMBAABwjqvHMeX0HqZbUTjdxNvbW4UKFdLJkyclSYGBgZlalDY9bDab4uPjdeXKFaYjd4OszK/NZtOpU6cUGBiofPl4awEAgJzDleOYcksP0634dneL0NBQSbIXT+5mjNHly5cVEBDg9iItL8rq/Hp5eals2bL8LgEAQI7g6nFMiTPl5YYepltRON3CYrEoLCxMISEhSkhIcPv5EhIStH79erVo0YJF1dwgq/Pr6+tLzyEAAMgRGMfkHAqnFHh7e2fJOBVvb29du3ZN/v7+FE5uQH4BAABuYBxTxlE4AQAAAHkA45gyh8IJAAAAyMUYx+QaFE4AAABALsU4JtehcAIAAAByEcYxuQeFEwAAAJBLMI7JffJu4XTxopTcrHne3pK/v2O7lHh5SQEBGWt76ZJkjJSQIO8rV64/N3HWN4tFCgxM2jY5t7a9fFmy2VKOI3/+jLW9ckWyWl3TNjDwetySdPWqdO2aa9oGBFzPsyTFx0sJCcnnN6W2KfH3v3GtONM2IeF6+5T4+UmJC+U60/bateu5SImv743X6kxbq/X67y4lPj7X29/aNrkc39zWZrt+raXnuGm1zZfvei6k6++JS5dc09aZ9z2fEcm3zamfEVLyOeYzImlbPiNuPM5OnxFS0hzzGZGxtjn8M8J65armrD2gWWv2Xw/xpqbx+Xxk9bp+XG+bVb7XUo4hwTufrnnnuz6OqUV5eSfEp3xtuuIz4v/jd8hxVn5GpPa+u5XJY86dO2ckmXPX05X05557HJ8QGJh8O8mYli0d2xYrlnLbhg0d25Yrl3Lb6tUd21avnnLbcuUc2zZsmHLbYsUc27ZsmXLbwEDHtvfck3LbWy+jbt1Sb3vhwo22ffum3vbkyRttBw9Ove3BgzfaDh+eetuYmBttx4xJve2WLTfaTpuWets1a260nTUr9bbffXej7Ycfpt72iy9utP3ii9TbfvjhjbbffZd621mzbrRdsyb1ttOm3Wi7ZUvqbceMudE2Jib1tsOH32h78GDqbQcPvtH25MnU2/bte6PthQupt+3WzThIrS2fEdd/+Iy48cNnxPUfPiOu//AZcf2Hz4gbP1nwGbFrwhupth1034um3IjvTLkR35lB972YatvxDzxvfth97PqB88BnxDnJSDLnzp0zacm7PU4AAABADmW1GW05cForfj2uuOjDes1Fx33pnmry4ta8ZFmMMcbTQWSluLg4BQcH69yxYwoKCkraIIu72BMSErR8+XK1a9fuxgKtdLFnrG0y3ebJ5jeFtiniNpzrUuhiTzbH3IZzHZ8RGWubxbfhJJtjPiOStuUz4sbjbPQZISWTYz4jMtY2B31GrNhzXON+PKC/L1w/Vj7rNflYU35tqd2qFxrsp5EdqqlNjdDrG7L6dl4lk+Ms/IyIi4tTcMmSOnfuXPK1wc1PT3VvbpY/v+ObNLV2zhwzvRI/pBISZPX3v/7cm7/YJ9c2PW7+UHVl25v/I+DKtn5+Ny5gV7b19b3+k578JrZ15rjpkfjGd3XbfPlufEFyZVtv7/Rfwze3TSvHXl7pP64zbS0W97SVskdbPiOuc/dnhJR2jvmMuI7PiBuyQ9ub3/dp5ZjPCOfbZsPPiNRmyrv2/+OS0sPq5a3LvteLqDTXY8qKzwgp9Ry7+zMitSL9Fnm3cAIAAAByAFfOlCcxW15GUTgBAAAA2ZDVZjRr9X69sXKfS47HekyZQ+EEAAAAZDNRMbEa+80eHY9LZYxROtHD5BoUTgAAAEA2kNo4poxKcxwT0o3CCQAAAPAwxjFlfxROAAAAgIcwjinnoHACAAAAPIBxTDkLhRMAAACQRVw9jokepqxD4QQAAABkAVeOY6KHKetROAEAAABu5OpxTMyU5xkUTgAAAICbMI4p96BwAgAAAFyIcUy5E4UTAAAA4CKMY8q9KJwAAACATGIcU+5H4QQAAABkAuOY8gYKJwAAAMBJjGPKeyicAAAAACcwjilvonACAAAA0oFxTHkbhRMAAACQhuV7TuiV739nHFMeRuEEAAAAJMNqM9p88IyWHLJoXfTOTB+PcUw5G4UTAAAAcAvHcUzemToWPUy5A4UTAAAA8P8Yx4SUUDgBAAAAYj0mpI7CCQAAAHkW6zEhvSicAAAAkCexHhOcQeEEAACAPMPVPUwS45jyCgonAAAA5Amu7GGS6GXKayicAAAAkKu5eqY8xjHlTRROAAAAyLWYKQ+uQuEEAACAXMX145iMnrq7kp5uU5UepjyMwgkAAAC5huvHMfmpQ4lLerJVRYqmPI7CCQAAADmeu8Yx1StdUMujfnDJMZGzUTgBAAAgR3PnOKaEhIRMHxO5A4UTAAAAchxXj2NipjykhcIJAAAAOYorxzExUx7Si8IJAAAAOYKrxzE9G1FZQ1tVpocJ6ULhBAAAgGyP9ZjgaRROAAAAyJYYx4TshMIJAAAA2Q7jmJDdUDgBAAAg22AcE7IrCicAAABkC4xjQnZG4QQAAACPYRwTcgoKJwAAAHgE45iQk1A4AQAAIEsxjgk5EYUTAAAAsgzjmJBTUTgBAADArRjHhNyAwgkAAABuwzgm5BYUTgAAAHA5xjEht6FwAgAAgEsxjgm5EYUTAAAAMo1xTMjtKJwAAACQKYxjQl5A4QQAAACnubqHSWIcE7I3CicAAAA4xZU9TBK9TMgZKJwAAACQLq6eKY9xTMhJKJwAAACQJmbKQ15H4QQAAIBkMY4JuMHL0wHMnj1b4eHh8vf3V+PGjbVly5ZU28+YMUNVq1ZVQECAypQpo2effVZXrrjm/loAAABcFxUTqzunrlbP9ze5pGgKC/bXnIfr6+mIKhRNyJE82uO0cOFCDRs2THPmzFHjxo01Y8YMtWvXTnv37lVISEiS9gsWLNCLL76ouXPnqmnTptq3b5/69esni8Wi6dOne+AVAAAA5C6MYwKS59HCafr06Ro4cKD69+8vSZozZ46WLVumuXPn6sUXX0zSfuPGjWrWrJl69eolSQoPD1fPnj21efPmLI0bAAAgN2IcE5AyjxVO8fHx2rp1qyIjI+3bvLy8FBERoejo6GSf07RpU82fP19btmxRo0aN9Oeff+r777/XI488kuJ5rl69qqtXb7z54+LiJEkJCQlKSEhw0avJuMQYskMsuRH5dT9y7F7k1/3IsXuRX/fLbI6tNqNfDv+rlb+d1LzoI5mOp1+TsoqoFqKG5QrL28uS43/3XMPu58kcO3NOizHGuDGWFB07dkylSpXSxo0b1aRJE/v2F154QevWrUuxF+nNN9/U8OHDZYzRtWvX9MQTT+idd95J8Txjx47VuHHjkmxfsGCBAgMDM/9CAAAAcqidpy1acshLZ+MzfwtdIV+j+8NtqlPUI18tgQy5dOmSevXqpXPnzikoKCjVtjlqVr21a9dq0qRJevvtt9W4cWPt379fTz/9tCZMmKBRo0Yl+5zIyEgNGzbM/jguLk5lypRR27Zt00xOVkhISNCKFSvUpk0b+fj4eDqcXIf8uh85di/y637k2L3Ir/tlJMdWm9E76/7U3H0HXBLDU3dX1OC7KuTKMUxcw+7nyRwn3o2WHh4rnIoVKyZvb2+dOHHCYfuJEycUGhqa7HNGjRqlRx55RI899pgkqVatWrp48aIef/xxvfTSS/LySjpJoJ+fn/z8/JJs9/HxyVYXf3aLJ7chv+5Hjt2L/LofOXYv8ut+6c0x45gyhmvY/TyRY2fO57HCydfXVw0aNNCqVavUpUsXSZLNZtOqVas0dOjQZJ9z6dKlJMWRt7e3JMlDdxwCAABke65ej4mZ8pAXefRWvWHDhqlv375q2LChGjVqpBkzZujixYv2Wfb69OmjUqVKafLkyZKkTp06afr06apXr579Vr1Ro0apU6dO9gIKAAAAN0TFxGrct78q9lzm173MSz1MwK08Wjj16NFDp06d0ujRo3X8+HHVrVtXUVFRKlGihCTpyJEjDj1ML7/8siwWi15++WUdPXpUxYsXV6dOnTRx4kRPvQQAAIBsydXrMT0bUVlDW1Wmhwl5lscnhxg6dGiKt+atXbvW4XG+fPk0ZswYjRkzJgsiAwAAyJkYxwS4nscLJwAAAGSe1Wb0y4HTjGMC3ITCCQAAIIfbedqiya+vp4cJcCMKJwAAgBzKajOateaA5u7zkpT5oolxTEDKKJwAAAByIMdxTJkrdOhlAtJG4QQAAJBDsB4T4DkUTgAAADkA6zEBnkXhBAAAkM1FxcRq0PxtMi44FuOYgIyhcAIAAMimrDajTQdO68XFuzNdNNHLBGQOhRMAAEA25Kpb8xjHBLgGhRMAAEA2YrUZzVq9X2+s3Jep49DDBLgWhRMAAEA24TjFeMYxjglwPQonAAAAD3LlFOP0MgHuQ+EEAADgIa4ax9Qy1KaB9zRSk0oh9DIBbuKVkSd98sknatasmUqWLKnDhw9LkmbMmKGvv/7apcEBAADkRlab0cyVf+iJ+dsyVTSFBftr1kN1dH95mxoz+QPgVk4XTu+8846GDRume+65R2fPnpXVapUkFSpUSDNmzHB1fAAAALlKVEysmk1ZlanJHwoF+OjTxxprw4hWalejhAujA5ASpwunt956S++//75eeukleXt727c3bNhQu3fvdmlwAAAAuYHVZhR94LTGf7tHT8zflqnJHyySpjxQS80qFaOHCchCTo9xOnjwoOrVq5dku5+fny5evOiSoAAAAHILV41jkpj8AfAkpwun8uXLa8eOHSpXrpzD9qioKFWrVs1lgQEAAORkrlqPKRFTjAOe5XThNGzYMA0ZMkRXrlyRMUZbtmzRZ599psmTJ+uDDz5wR4wAAAA5iqvWY5LoZQKyC6cLp8cee0wBAQF6+eWXdenSJfXq1UslS5bUzJkz9dBDD7kjRgAAgGzPlesxSdKAZuGKqB6qRsyWB2QLGVrHqXfv3urdu7cuXbqkCxcuKCQkxNVxAQAA5BiMYwJyvwxNDnHt2jVVrlxZgYGBCgwMlCT98ccf8vHxUXh4uKtjBAAAyJYYxwTkHU5PR96vXz9t3LgxyfbNmzerX79+rogJAAAg23PFekyJwoL9Nefh+no6ogpFE5BNOd3jtH37djVr1izJ9jvuuENDhw51SVAAAADZEeOYgLzL6cLJYrHo/PnzSbafO3dOVqvVJUEBAABkN4xjAvI2p2/Va9GihSZPnuxQJFmtVk2ePFl33nmnS4MDAADwNKvNaObKP/TE/G0uKZqejaisDSNaUTQBOYzTPU5Tp05VixYtVLVqVTVv3lyS9L///U9xcXFavXq1ywMEAADwFNZjApDI6cKpevXq2rVrl2bNmqWdO3cqICBAffr00dChQ1WkSBF3xAgAAJBlGMcEIDkZWsepZMmSmjRpkqtjAQAA8CjGMQFISYYKp7Nnz2rLli06efKkbDabw74+ffq4JDAAAICswnpMANLidOH07bffqnfv3rpw4YKCgoJksdz4QLBYLBROAAAgR2EcE4D0cLpweu655/Too49q0qRJCgwMdEdMAAAAbsU4JgDOcrpwOnr0qJ566imKJgAAkCMxjglARjhdOLVr106//PKLKlSo4I54AAAAXM7VPUwS45iAvMbpwqljx456/vnn9euvv6pWrVry8fFx2N+5c2eXBQcAAJBZruxhkuhlAvIqpwungQMHSpLGjx+fZJ/FYpHVas18VAAAAJnk6pnyGMcE5G1OF063Tj8OAACQ3TBTHgBXy9A6TgAAANkN45gAuFOGCqeLFy9q3bp1OnLkiOLj4x32PfXUUy4JDAAAIL0YxwTA3ZwunLZv36577rlHly5d0sWLF1WkSBH9888/CgwMVEhICIUTAADIUlExsRo0f5uMC47FOCYAKfFy9gnPPvusOnXqpH///VcBAQHatGmTDh8+rAYNGui1115zR4wAAADJir9m08ilMZkumsKC/TXn4foa1amGmlQsStEEIAmne5x27Nihd999V15eXvL29tbVq1dVoUIFTZs2TX379tX999/vjjgBAAAcRMXEauTS3TpzMSHDx6CHCUB6OV04+fj4yMvrekdVSEiIjhw5omrVqik4OFh//fWXywMEAABI5KoJIBjDBMBZThdO9erV088//6zKlSurZcuWGj16tP755x998sknqlmzpjtiBAAAcNkEEMyUByAjnB7jNGnSJIWFXf/rzMSJE1W4cGENGjRIp06d0nvvvefyAAEAQN5mtRnNXPmHnpi/LVNFU+I4pqcjqlA0AXCa0z1ODRs2tP87JCREUVFRLg0IAAAgkSsWsmUcEwBXYAFcAACQrbhqHFPR/L6a2LUm45gAuES6Cqf69etr1apVKly4sOrVqyeLJeW/1mzbts1lwQEAgLzFVeOYiuT3UXRka/nmc3pUAgAkK12F03333Sc/Pz9JUpcuXdwZDwAAyIOsNqNZq/frjZX7MnWcxD/tTupai6IJgEulq3AaM2aMJMlqteruu+9W7dq1VahQIXfGBQAA8ghXjGNKFMo04wDcxKkxTt7e3mrbtq1+++03CicAAJBhrhrHlIgJIAC4m9OTQ9SsWVN//vmnypcv7454AABALueqcUwSC9kCyDpOF06vvPKKhg8frgkTJqhBgwbKnz+/w/6goCCXBQcAAHIPV41jSsRCtgCyktOF0z333CNJ6ty5s8PsesYYWSwWWa1W10UHAAByheV7TuiV7393yTgmepkAeILThdOaNWvcEQcAAMhlrDajzQfPaMkhi9ZF78z08RjHBMCTnC6cWrZs6Y44AABALuI4jsk7U8eihwlAduB04ZTo0qVLOnLkiOLj4x22165dO9NBAQCAnIlxTAByK6cLp1OnTql///764Ycfkt3PGCcAAPImV67HRC8TgOzG6cLpmWee0dmzZ7V582bdddddWrp0qU6cOKFXXnlFr7/+ujtiBAAA2RTrMQHIK5wunFavXq2vv/5aDRs2lJeXl8qVK6c2bdooKChIkydPVseOHd0RJwAAyGZYjwlAXuJ04XTx4kWFhIRIkgoXLqxTp06pSpUqqlWrlrZt2+byAAEAQPbh6h4miXFMAHIGpwunqlWrau/evQoPD1edOnX07rvvKjw8XHPmzFFYGH8lAgAgt3JlD5NELxOAnMXpwunpp59WbGysJGnMmDFq3769Pv30U/n6+mrevHmujg8AAHiYq2fKYxwTgJwo3YVTt27d9Nhjj6l3796yWK5/yDVo0ECHDx/W77//rrJly6pYsWJuCxQAAGQ9ZsoDgOvSXTj9+++/6tixo0qWLKn+/furX79+qlChggIDA1W/fn13xggAALKQ68cxGT11dyU93aYqPUwAciyv9DZctWqV/vzzTw0YMEDz589X5cqV1apVKy1YsEBXr2b+r1AAAMDzomJidefU1er5/iaXFE1hwX56tIpNT7aqSNEEIEdLd+EkSeXKldPYsWP1559/asWKFSpZsqQGDhyosLAwDRkyRFu3bnVXnAAAwM2iYmI1aP42l0z+MKBZuD4beIfWDGuhOkWNC6IDAM9yenKIRK1atVKrVq10/vx5LViwQCNHjtS7776ra9euuTI+AACQBeKv2TRyaYwyW+LcOo4pISEh88EBQDaQ4cJJkg4ePKh58+Zp3rx5OnfunCIiIlwVFwAAyCJRMbEauXS3zlzMeJHDTHkAcjunC6crV67oyy+/1Ny5c7V+/XqVKVNGAwYMUP/+/VWmTBl3xAgAAFzMVRNAMFMegLwi3YXTli1bNHfuXC1cuFBXrlxR165dFRUVpdatW9unJwcAANmfqxayfTaisoa2qkwPE4A8Id2F0x133KE6depowoQJ6t27twoXLuzOuAAAgIu5aiFbepkA5EXpLpx++eUX1msCACCHcsVCtoxjApCXpbtwomgCACBncdU4pqL5fTWxa016mADkaU6t4+QOs2fPVnh4uPz9/dW4cWNt2bIl1fZnz57VkCFDFBYWJj8/P1WpUkXff/99FkULAEDO4KqFbIvk91F0ZGuKJgB5XqamI8+shQsXatiwYZozZ44aN26sGTNmqF27dtq7d69CQkKStI+Pj1ebNm0UEhKiL7/8UqVKldLhw4dVqFChrA8eAIBsyFXjmBJvxJvUtZZ883n876wA4HEeLZymT5+ugQMHqn///pKkOXPmaNmyZZo7d65efPHFJO3nzp2rM2fOaOPGjfLx8ZEkhYeHZ2XIAABkW64Yx5QolAkgAMCBxwqn+Ph4bd26VZGRkfZtXl5eioiIUHR0dLLP+eabb9SkSRMNGTJEX3/9tYoXL65evXppxIgR8vb2TvY5V69e1dWrN/4DEhcXJ+n6SubZYTXzxBiyQyy5Efl1P3LsXuTX/XJ6jq02o18O/6uVv53UvOgjmT5evyZlFVEtRA3LFZa3lyXTecnp+c0JyLF7kV/382SOnTmnxRhj0mpUr169dK/VtG3btnS1O3bsmEqVKqWNGzeqSZMm9u0vvPCC1q1bp82bNyd5zm233aZDhw6pd+/eGjx4sPbv36/Bgwfrqaee0pgxY5I9z9ixYzVu3Lgk2xcsWKDAwMB0xQoAQHa087RFSw556Wx85me4K+RrdH+4TXWKpvm1AAByjUuXLqlXr146d+6cgoKCUm2brh6nLl262P995coVvf3226pevbq94Nm0aZP27NmjwYMHZzzqdLDZbAoJCdF7770nb29vNWjQQEePHtWrr76aYuEUGRmpYcOG2R/HxcWpTJkyatu2bZrJyQoJCQlasWKF2rRpY7/9EK5Dft2PHLsX+XW/nJhjq83onXV/au6+Ay453lN3V9Tguyq4ZYrxnJjfnIYcuxf5dT9P5jjxbrT0SFfhdHNR8thjj+mpp57ShAkTkrT566+/0n3iYsWKydvbWydOnHDYfuLECYWGhib7nLCwMPn4+DjclletWjUdP35c8fHx8vX1TfIcPz8/+fn5Jdnu4+OTrS7+7BZPbkN+3Y8cuxf5db+ckmNXjmPKyoVsc0p+czJy7F7k1/08kWNnzuf0NDmLFi1Snz59kmx/+OGHtXjx4nQfx9fXVw0aNNCqVavs22w2m1atWuVw697NmjVrpv3798tms9m37du3T2FhYckWTQAA5AZWm1H0gdMa/+0ePTF/W6aLpgHNwvXZwDu0YUQrJn8AgHRyenKIgIAA/fTTT6pcubLD9p9++kn+/v5OHWvYsGHq27evGjZsqEaNGmnGjBm6ePGifZa9Pn36qFSpUpo8ebIkadCgQZo1a5aefvppPfnkk/rjjz80adIkPfXUU86+DAAAcoSomFiN+/ZXxZ67kuljZWUPEwDkNk4XTs8884wGDRqkbdu2qVGjRpKkzZs3a+7cuRo1apRTx+rRo4dOnTql0aNH6/jx46pbt66ioqJUokQJSdKRI0fk5XWjU6xMmTJavny5nn32WdWuXVulSpXS008/rREjRjj7MgAAyLasNqMtB89oxa/HM7V47c2ejaisoa0qu2UcEwDkBU4XTi+++KIqVKigmTNnav78+ZKujzP68MMP1b17d6cDGDp0qIYOHZrsvrVr1ybZ1qRJE23atMnp8wAAkBO4sodJopcJAFwlQ+s4de/ePUNFEgAASJ7VZjRr9X69sXKfS443oFm4IqqHqlH5IvQyAYALZKhwOnv2rL788kv9+eefGj58uIoUKaJt27apRIkSKlWqlKtjBAAgV8upM+UBQF7idOG0a9cuRUREKDg4WIcOHdJjjz2mIkWKaMmSJTpy5Ig+/vhjd8QJAECuwjgmAMhZnC6chg0bpn79+mnatGkqWLCgffs999yjXr16uTQ4AAByI8YxAUDO43Th9PPPP+vdd99Nsr1UqVI6fvy4S4ICACC3ioqJ1aD522RccCzGMQFA1nG6cPLz81NcXFyS7fv27VPx4sVdEhQAALlR/DWbRi6NyXTRRA8TAGQ9pwunzp07a/z48friiy8kSRaLRUeOHNGIESP0wAMPuDxAAAByg6iYWI1cultnLiZk+Bj0MAGA5zhdOL3++uvq1q2bQkJCdPnyZbVs2VLHjx9XkyZNNHHiRHfECABAjuSqCSDoYQIAz3O6cAoODtaKFSu0YcMG7dq1SxcuXFD9+vUVERHhjvgAAMiRXDUBBDPlAUD2kKF1nCTpzjvv1J133unKWAAAyPFctZAtvUwAkL1kqHBatWqVVq1apZMnT8pmsznsmzt3rksCAwAgp3HFQraMYwKA7MnpwmncuHEaP368GjZsqLCwMFksfKgDAPIuV41jKprfVxO71qSHCQCyKacLpzlz5mjevHl65JFH3BEPAAA5hqvGMRXJ76PoyNbyzeflosgAAK7mdOEUHx+vpk2buiMWAAByBFeNY0q8Z2NS11oUTQCQzTn9Kf3YY49pwYIF7ogFAIBsLyomVs2mrMp00SRJocH+eufh+tyeBwA5gNM9TleuXNF7772nlStXqnbt2vLx8XHYP336dJcFBwBAduCqcUyJmAACAHIepwunXbt2qW7dupKkmJgYh31MFAEAyG1cNY5JYopxAMjJnC6c1qxZ4444AADIVlw1jikRC9kCQM6W4QVwAQDIrVyxHlMiepkAIHdIV+F0//33a968eQoKCtL999+fatslS5a4JDAAALKS1Wb0y4HTjGMCACQrXYVTcHCwffxScHCwWwMCACCr7Txt0eTX19PDBABIUboKpw8//DDZfwMAkJNZbUaz1hzQ3H1ekjJfNDGOCQByL8Y4AQDyJMdxTJkrdOhlAoDcL0OF05dffqkvvvhCR44cUXx8vMO+bdu2uSQwAABcjfWYAAAZ5eXsE9588031799fJUqU0Pbt29WoUSMVLVpUf/75pzp06OCOGAEAyLSomFjdOXW1er6/KdNFU1iwv+Y8XF+jOtVQk4pFKZoAIA9wusfp7bff1nvvvaeePXtq3rx5euGFF1ShQgWNHj1aZ86ccUeMAABkSlRMrAbN3ybjgmMxjgkA8iane5yOHDmipk2bSpICAgJ0/vx5SdIjjzyizz77zLXRAQCQCVab0U9//KMXF+/OdNGU2Mv0dEQViiYAyIOc7nEKDQ3VmTNnVK5cOZUtW1abNm1SnTp1dPDgQRnjir/lAQCQeVExsRr37a+KPXclU8dhHBMAQMpA4dSqVSt98803qlevnvr3769nn31WX375pX755Zc0F8cFAMDdrDajWav3642V+zJ1HGbKAwDczOnC6b333pPNZpMkDRkyREWLFtXGjRvVuXNn/ec//3F5gAAApJfjFOMZxzgmAMCtnC6cvLy85OV1Y2jUQw89pIceesilQQEAkF6unGKcXiYAQErSVTjt2rUr3QesXbt2hoMBAMAZrhrH1DLUpoH3NFKTSiH0MgEAkpWuwqlu3bqyWCxpTv5gsVhktVpdEhgAAClx5TimlzpUlfXwVjVm8gcAQCrSVTgdPHjQ3XEAAJAurhjHVCjAR7N719cdFYrKZr2m7w+7MEAAQK6UrsKpXLly7o4DAIAUuXIck0XSlAdqqVmlYpIkGzdKAADSwenJISRp7969euutt/Tbb79JkqpVq6Ynn3xSVatWdWlwAAC4ahyTxOQPAICM80q7iaPFixerZs2a2rp1q+rUqaM6depo27ZtqlmzphYvXuyOGAEAeZDVZjRz5R96Yv42lxRNz0ZU1oYRrSiaAAAZ4nSP0wsvvKDIyEiNHz/eYfuYMWP0wgsv6IEHHnBZcACAvMlV6zFJ9DIBAFzD6cIpNjZWffr0SbL94Ycf1quvvuqSoAAAeY8rxzFJ0oBm4YqoHqpGzJYHAHABpwunu+66S//73/9UqVIlh+0bNmxQ8+bNXRYYACDvYBwTACC7c7pw6ty5s0aMGKGtW7fqjjvukCRt2rRJixYt0rhx4/TNN984tAUAICWuWo8p0bMRlTW0VWV6mAAALud04TR48GBJ0ttvv62333472X0Si+ECAFLHOCYAQE7idOFks9ncEQcAIA+JionVoPnbZDJ5HMYxAQCySobWcUrJpUuXFBgY6MpDAgByEavNaNOB03px8e5MFU30MAEAsprT6zi1bt1aR48eTbJ98+bNqlu3ritiAgDkQlExsbpz6mr1/u9mnb2ckOHjsB4TAMATnC6c/P39Vbt2bS1cuFDS9Vv3xo4dq+bNm+uee+5xeYAAgJzNVQvZhgX7a87D9fV0RBVuywMAZDmnb9VbtmyZZs+erUcffVRff/21Dh06pMOHD+u7775T27Zt3REjACCHcsUEEIxjAgBkBxka4zRkyBD9/fffmjp1qvLly6e1a9eqadOmro4NAJADuWohW8YxAQCyE6cLp3///VePPfaYVq1apXfffVfr1q1T27ZtNW3aNIfpyAEAeY+rFrJlPSYAQHbjdOFUs2ZNlS9fXtu3b1f58uU1cOBALVy4UIMHD9ayZcu0bNkyd8QJAMjGXLWQLb1MAIDsyunC6YknntBLL70kL68b80r06NFDzZo1U//+/V0aHAAg+3PFOKZCAT6a3bu+7qhQlF4mAEC25HThNGrUqGS3ly5dWitWrMh0QACA7M9V45gkySJpygO11KxSMZfEBgCAO6R7OvJp06bp8uXL9sc//fSTrl698dfF8+fPM8YJAPKAxPWYer6/KdNFU1iwv955uD635gEAsr10F06RkZE6f/68/XGHDh0cFsK9dOmS3n33XddGBwDIFqw2o+gDpzX+2z2ZXo8pEQvZAgByknTfqmeMSfUxACB3ctVMeYmYAAIAkBNlaB0nAEDu56qZ8hKxkC0AICejcAIAJOGKmfIS0cMEAMgNnCqcPvjgAxUoUECSdO3aNc2bN0/Fil2fBenm8U8AgJzHlTPlJWIhWwBAbpHuwqls2bJ6//337Y9DQ0P1ySefJGkDAMh5GMcEAEDq0l04HTp0yI1hAAA8JSomVoPmb5MrpvxhHBMAILdijBMA5GHx12wauTQm00UTPUwAgNyOwgkA8qiomFiNXLpbZy4mZPgY9DABAPIKCicAyENcNQEEPUwAgLyGwgkA8ghXTQDBTHkAgLyIwgkAcjlXLWRLLxMAIC/LUOF04MABffjhhzpw4IBmzpypkJAQ/fDDDypbtqxq1Kjh6hgBABnkioVsGccEAIDk5ewT1q1bp1q1amnz5s1asmSJLly4IEnauXOnxowZ4/IAAQDOsdqMog+c1vhv9+iJ+dsyXDQVze+rOQ/X16hONdSkYlGKJgBAnuZ0j9OLL76oV155RcOGDVPBggXt21u1aqVZs2a5NDgAgHNcNY6pSH4fRUe2lm8+p/++BgBAruR04bR7924tWLAgyfaQkBD9888/LgkKAOAcV41jSuxTmtS1FkUTAAA3cbpwKlSokGJjY1W+fHmH7du3b1epUqVcFhgAIH1cMY4pUSgTQAAAkCynC6eHHnpII0aM0KJFi2SxWGSz2fTTTz9p+PDh6tOnjztiBADcwlXrMSViAggAAFLndOE0adIkDRkyRGXKlJHValX16tVltVrVq1cvvfzyy+6IEQBwE1eNY5KYYhwAgPRyunDy9fXV+++/r1GjRikmJkYXLlxQvXr1VLlyZXfEBwD4f64ax5SIhWwBAEg/p0f+btiwQZJUtmxZ3XPPPerevXumi6bZs2crPDxc/v7+aty4sbZs2ZKu533++eeyWCzq0qVLps4PANnd8j0n1GzKKpcUTWHB/przcH09HVGFogkAgHRyusepVatWKlWqlHr27KmHH35Y1atXz1QACxcu1LBhwzRnzhw1btxYM2bMULt27bR3716FhISk+LxDhw5p+PDhat68eabODwDZldVmtPngGS05ZNG66J2ZPh7jmAAAyDine5yOHTum5557TuvWrVPNmjVVt25dvfrqq/r7778zFMD06dM1cOBA9e/fX9WrV9ecOXMUGBiouXPnpvgcq9Wq3r17a9y4capQoUKGzgsA2VlUTKzunLpaD8/9RetivTN1rMQeJhayBQAg45zucSpWrJiGDh2qoUOH6uDBg1qwYIE++ugjRUZGqkWLFlq9enW6jxUfH6+tW7cqMjLSvs3Ly0sRERGKjo5O8Xnjx49XSEiIBgwYoP/973+pnuPq1au6evXGFL1xcXGSpISEBCUkJKQ7VndJjCE7xJIbkV/3I8eut3zPCT35+U4ZFxzrqbsravBdFeTtZeF3lAKuYfciv+5Hjt2L/LqfJ3PszDktxphM/bfZarXqhx9+0KhRo7Rr1y5ZrdZ0P/fYsWMqVaqUNm7cqCZNmti3v/DCC1q3bp02b96c5DkbNmzQQw89pB07dqhYsWLq16+fzp49q6+++irZc4wdO1bjxo1Lsn3BggUKDAxMd6wA4G42I/1xzqJ5f3jp0jXpxnK0zivka3R/uE11irqi/AIAIHe6dOmSevXqpXPnzikoKCjVtk73OCX66aef9Omnn+rLL7/UlStXdN9992ny5MkZPVy6nD9/Xo888ojef/99FStWLF3PiYyM1LBhw+yP4+LiVKZMGbVt2zbN5GSFhIQErVixQm3atJGPj4+nw8l1yK/7kWPXWL7nhCZ//3umF7Ht16SsIqqFqGG5wtySl05cw+5Fft2PHLsX+XU/T+Y48W609HC6cIqMjNTnn3+uY8eOqU2bNpo5c6buu+++DPXeFCtWTN7e3jpx4oTD9hMnTig0NDRJ+wMHDujQoUPq1KmTfZvNZpMk5cuXT3v37lXFihUdnuPn5yc/P78kx/Lx8clWF392iye3Ib/uR44zxlVTjLMeU+ZxDbsX+XU/cuxe5Nf9PJFjZ87ndOG0fv16Pf/88+revXu6e31S4uvrqwYNGmjVqlX2KcVtNptWrVqloUOHJml/2223affu3Q7bXn75ZZ0/f14zZ85UmTJlMhUPAGSlqJhYjf1mT6Z7mViPCQAA93O6cPrpp59cGsCwYcPUt29fNWzYUI0aNdKMGTN08eJF9e/fX5LUp08flSpVSpMnT5a/v79q1qzp8PxChQpJUpLtAJAdWW1GWw6e0Ypfj2vuT4cydSx6mQAAyDrpKpy++eYbdejQQT4+Pvrmm29Sbdu5c2enAujRo4dOnTql0aNH6/jx46pbt66ioqJUokQJSdKRI0fk5eX0rOkAkO1ExcRq3Le/KvbclUwdh/WYAADIeukqnLp06aLjx48rJCTEfktdciwWi1Oz6iVKnN48OWvXrk31ufPmzXP6fACQlRjHBABAzpeuwilxAoZb/w0ASJ0rxjEFehu980hD3VmlBD1MAAB4iNP3wH388ccOC8omio+P18cff+ySoAAgJ7PajKIPnNb4b/foifnbMlU0WSQ9VNGmphWLUjQBAOBBThdO/fv317lz55JsP3/+vH1CBwDIq6JiYnXn1NXq+f4ml0z+8NZDdVjEFgCAbMDpWfWMMbJYkv7V8++//1ZwcLBLggKAnMZV45gSJU4xbrNe0/eHXXJIAACQCekunOrVqyeLxSKLxaLWrVsrX74bT7VarTp48KDat2/vliABIDtz1XpMUtIJIGzOz7cDAADcIN2FU+Jsejt27FC7du1UoEAB+z5fX1+Fh4frgQcecHmAAJAduXI9JokpxgEAyO7SXTiNGTNGkhQeHq4ePXrI39/fbUEBQHbmqvWYJKYYBwAgp3B6jFPfvn3dEQcA5AhRMbEaNH+bXDFdQ+I4JnqYAADI/pwunKxWq9544w198cUXOnLkiOLj4x32nzlzxmXBAUB2En/NppFLYzJdNNHLBABAzuP0dOTjxo3T9OnT1aNHD507d07Dhg3T/fffLy8vL40dO9YNIQKA50XFxOqOySt15mJ82o1TMKBZuD4beIc2jGhF0QQAQA7jdI/Tp59+qvfff18dO3bU2LFj1bNnT1WsWFG1a9fWpk2b9NRTT7kjTgDIcq6aAIIeJgAAcj6nC6fjx4+rVq1akqQCBQrYF8O99957NWrUKNdGBwAe4qoJIBjHBABA7uD0rXqlS5dWbGysJKlixYr68ccfJUk///yz/Pz8XBsdAGQxq81o5so/9MT8bZkqmsKC/TXn4fp6OqIKRRMAALmA0z1OXbt21apVq9S4cWM9+eSTevjhh/Xf//5XR44c0bPPPuuOGAEgS7hiIVvWYwIAIHdyunCaMmWK/d89evRQ2bJlFR0drcqVK6tTp04uDQ4A3M1V45iK5vfVxK41GccEAEAu5XThdKsmTZqoSZMmrogFALKUq8YxFcnvo+jI1vLN5/TdzwAAIIdIV+H0zTffpPuAnTt3znAwAJAVrDajWav3642V+zJ1nMQb8SZ1rUXRBABALpeuwqlLly7pOpjFYpHVas1MPADgVq4Yx5QolGnGAQDIM9JVONlsNnfHAQBu46pxTImYAAIAgLwn02OcACA7c9U4JomFbAEAyMucLpzGjx+f6v7Ro0dnOBgAcKWomFgNmr9NxgXHYiFbAADyNqcLp6VLlzo8TkhI0MGDB5UvXz5VrFiRwgmAx1ltRpsOnNaLi3dnumiilwkAAEgZKJy2b9+eZFtcXJz69eunrl27uiQoAMgoV92axzgmAABwM5eMcQoKCtK4cePUqVMnPfLII644JAA4xVVTjNPDBAAAkuOyySHOnTunc+fOuepwAJBurppinHFMAAAgJU4XTm+++abDY2OMYmNj9cknn6hDhw4uCwwAUuPKKcbpZQIAAGlxunB64403HB57eXmpePHi6tu3ryIjI10WGACkhHFMAAAgqzldOB08eNAdcQBAmhjHBAAAPIUFcAHkCK4Yx1QowEeze9fXHRWK0sMEAACc4nThdOXKFb311ltas2aNTp48KZvN5rB/27ZtLgsOQN7mynFMFklTHqilZpWKuSQ2AACQtzhdOA0YMEA//vijunXrpkaNGsli4a+2AFzPVeOYJG7NAwAAmed04fTdd9/p+++/V7NmzdwRD4A8zlXjmBIxxTgAAHAFpwunUqVKqWDBgu6IBUAe56r1mCR6mQAAgGs5XTi9/vrrGjFihObMmaNy5cq5IyYAeVBUTKwGzd8mk8njMMU4AABwB6cLp4YNG+rKlSuqUKGCAgMD5ePj47D/zJkzLgsOQO5ntRltOnBaLy7enamiiR4mAADgTk4XTj179tTRo0c1adIklShRgskhAGSYqyaAYBwTAABwN6cLp40bNyo6Olp16tRxRzwA8gAWsgUAADmN04XTbbfdpsuXL7sjFgB5gCsmgGAcEwAAyGpOF05TpkzRc889p4kTJ6pWrVpJxjgFBQW5LDgAuYOrFrKlhwkAAHiK04VT+/btJUmtW7d22G6MkcVikdVqdU1kAHIFxjEBAIDcwOnCac2aNe6IA0AuwzgmAACQmzhdOLVs2dIdcQDIRVwxjqlQgI9m966vOyoUpZcJAAB4nNOF0/r161Pd36JFiwwHAyDnstqMfjlwOtPjmCTJImnKA7XUrFIxl8QGAACQWU4XTnfddVeSbTev5cQYJyDv2Xnaosmvr89UD1Mibs0DAADZkdOF07///uvwOCEhQdu3b9eoUaM0ceJElwUGIPuz2oxmrTmgufu8JGW+aGICCAAAkF05XTgFBwcn2damTRv5+vpq2LBh2rp1q0sCA5C9OY5jylyhQy8TAADI7pwunFJSokQJ7d2711WHA5CNRcXEatD8bTKZPA4L2QIAgJzC6cJp165dDo+NMYqNjdWUKVNUt25dV8UFIBuy2ow2HTitFxfvzlTRRA8TAADIaZwunOrWrSuLxSJjHL823XHHHZo7d67LAgOQvbCQLQAAyMucLpwOHjzo8NjLy0vFixeXv7+/y4ICkD1YbUZbDp5xyRTj9DIBAICczOnCqVy5cu6IA0A246oeJsYxAQCA3MArvQ1Xr16t6tWrKy4uLsm+c+fOqUaNGvrf//7n0uAAZD2rzWjmyj/0xPxtmSqawoL9Nefh+hrVqYaaVCxK0QQAAHK0dPc4zZgxQwMHDlRQUFCSfcHBwfrPf/6j6dOnq3nz5i4NEEDWcZxiPOMYxwQAAHKbdPc47dy5U+3bt09xf9u2bVnDCciBrDaj6AOnNf7bPXpi/rZMFU2JvUxPR1ShaAIAALlKunucTpw4IR8fn5QPlC+fTp065ZKgAGQNV41jCvQ2eueRhrqzSgkKJgAAkCulu8epVKlSiomJSXH/rl27FBbGbFlATuCqcUyW//95qKJNTRnHBAAAcrF0F0733HOPRo0apStXkn7Junz5ssaMGaN7773XpcEBcL2omFg1m7JKb6zcl+ljhQb7662H6qhO0cwshwsAAJD9pftWvZdffllLlixRlSpVNHToUFWtWlWS9Pvvv2v27NmyWq166aWX3BYogIxz5XpMkuMU4zbrNX1/OPMxAgAAZGfpLpxKlCihjRs3atCgQYqMjJQx1//CbLFY1K5dO82ePVslSpRwW6AAMsZV45ik5BextVkzfVgAAIBsz6kFcMuVK6fvv/9e//77r/bv3y9jjCpXrqzChQu7Kz4AmRAVE6tB87fJFTfSMcU4AADIy5wqnBIVLlxYt99+u6tjAeBC8ddsGrk0JtNFU3K9TAAAAHlNhgonANlbVEysRi7drTMXEzJ8jJvHMdHLBAAA8joKJyCXcNUEEPQwAQAAJEXhBOQCrpoAgnFMAAAAyaNwAnIwq81o1ur9mV6TiV4mAACA1FE4ATlUVEysxn6zR8fjrmb4GIxjAgAASB8KJyAHcdU4pqL5fTWxa016mAAAANKJwgnIIVw1jqlIfh9FR7aWbz4vF0UGAACQ+1E4Admcq8YxJd6IN6lrLYomAAAAJ1E4AdmYK8YxJQplAggAAIAMo3ACshlXjWNKxAQQAAAAmUfhBGQjrhrHJDHFOAAAgCtROAHZRFRMrAbN3ybjgmOxkC0AAIBrUTgB2UD8NZtGLo3JdNFELxMAAIB7ZIuptWbPnq3w8HD5+/urcePG2rJlS4pt33//fTVv3lyFCxdW4cKFFRERkWp7ILuLionVHZNX6szF+AwfY0CzcH028A5tGNGKogkAAMANPF44LVy4UMOGDdOYMWO0bds21alTR+3atdPJkyeTbb927Vr17NlTa9asUXR0tMqUKaO2bdvq6NGjWRw5kHFWm1H0gdMa/+0ePTF/m85cTMjQccKC/TXn4foa1amGmlQsyq15AAAAbuLxW/WmT5+ugQMHqn///pKkOXPmaNmyZZo7d65efPHFJO0//fRTh8cffPCBFi9erFWrVqlPnz5ZEjOQGa6aAIJxTAAAAFnHo4VTfHy8tm7dqsjISPs2Ly8vRUREKDo6Ol3HuHTpkhISElSkSJFk91+9elVXr95YAycuLk6SlJCQoISEjP2V35USY8gOseRG2SW/VpvRL4f/1crfTmpe9JFMHSss2E8vdbhN7WqUkM16TTari4LMoOyS49yK/LofOXYv8ut+5Ni9yK/7eTLHzpzTYoxxxSReGXLs2DGVKlVKGzduVJMmTezbX3jhBa1bt06bN29O8xiDBw/W8uXLtWfPHvn7+yfZP3bsWI0bNy7J9gULFigwMDBzLwBIh52nLVpyyEtn4zPaM3T9Ldoy1KhWEaOKQUZ0MgEAAGTepUuX1KtXL507d05BQUGptvX4rXqZMWXKFH3++edau3ZtskWTJEVGRmrYsGH2x3FxcfZxUWklJyskJCRoxYoVatOmjXx8fDwdTq7jyfxabUbvrPtTc/cdyNRxiuT31fhO1dWuRgkXReZaXMPuRX7djxy7F/l1P3LsXuTX/TyZ48S70dLDo4VTsWLF5O3trRMnTjhsP3HihEJDQ1N97muvvaYpU6Zo5cqVql27dort/Pz85Ofnl2S7j49Ptrr4s1s8uU1W5zcqJlZjv9mj43FX026ciiL5fbQpMkK++Tw+j0uauIbdi/y6Hzl2L/LrfuTYvciv+3kix86cz6Pfxnx9fdWgQQOtWrXKvs1ms2nVqlUOt+7datq0aZowYYKioqLUsGHDrAgVSNOtM+Vlpmiy/P/PpK61ckTRBAAAkNt5/Fa9YcOGqW/fvmrYsKEaNWqkGTNm6OLFi/ZZ9vr06aNSpUpp8uTJkqSpU6dq9OjRWrBggcLDw3X8+HFJUoECBVSgQAGPvQ7kba6aKS9RKAvZAgAAZCseL5x69OihU6dOafTo0Tp+/Ljq1q2rqKgolShxfTzHkSNH5OV14y/u77zzjuLj49WtWzeH44wZM0Zjx47NytABSdeLpkHzt8kVs6wMaBauiOqhalS+CNOMAwAAZCMeL5wkaejQoRo6dGiy+9auXevw+NChQ+4PCEin+Gs2jVwak+miKYweJgAAgGwtWxROQE4UFROrkUt368zFjK85QA8TAABAzkDhBDjBajPacvCMVvx6XHN/OpTh49DDBAAAkLNQOAHp5KoJIJ6NqKyhrSrTwwQAAJCDUDgBabDajGat3q83Vu7L1HHoZQIAAMi5KJyAVLhiIVvGMQEAAOR8FE7ALVw1jqlofl9N7FqTHiYAAIBcgMIJuImrxjEVye+j6MjW8s3nlXZjAAAAZHsUToBcN44p8Ua8SV1rUTQBAADkIhROyPNcMY4pUSgTQAAAAORKFE7I06JiYjVo/jaZTB6HCSAAAAByNwon5ElWm9GmA6f14uLdmSqamGIcAAAgb6BwQp7DQrYAAABwFoUT8gwWsgUAAEBGUTghT1i+54Re+f53FrIFAABAhlA4Idey2ow2HzyjJYcsWhe9M8PHoYcJAAAAFE7IlRzHMXln+DiMYwIAAIBE4YRcxGoz2nLwjFb8elxzfzqUqWPRywQAAICbUTghV3DVTHmFAnw0u3d93VGhKL1MAAAAsKNwQo7mqpnyJMkiacoDtdSsUrHMBwYAAIBchcIJOVZUTKzGfrMnUzPlJeLWPAAAAKSGwgk5UlRMrAbN3ybjgmMxAQQAAADSQuGEHMVqM9p04LReXLw700UTvUwAAABILwon5BiumgCChWwBAADgLAonZHuumgCCHiYAAABkFIUTsjVXTADRMtSmgfc0UpNKIfQwAQAAIEMonJDtuGoh27Bgf73Uoaqsh7eqMbflAQAAIBMonJCtuGocU+JMeTbrNX1/2EXBAQAAIM+icEK24K5xTDarK6IDAABAXkfhBI9zxTimQgE+mt27vu6oUJRb8gAAAOByFE7wCFeNY5Iki6QpD9RSs0rFXBIbAAAAcCsKJ2Q5V41jkphiHAAAAFmDwglZKiomVoPmb5NxwbESJ4Dg1jwAAAC4G4UTskz8NZtGLo3JdNFELxMAAACyGoUTskRUTKxGLt2tMxcTMnyMAc3CFVE9VI1YkwkAAABZjMIJbuPKhWzpYQIAAIAnUTjBLVy9kC09TAAAAPAkCie4lLsWsgUAAAA8icIJLuOKhWwZxwQAAIDsiMIJmeKqcUxF8/tqYtea9DABAAAgW6JwQoa5ahxTkfw+io5sLd98Xi6KDAAAAHAtCidkiCsWsk28EW9S11oUTQAAAMjWKJzgNFctZBvKBBAAAADIISic4BQWsgUAAEBeROGENLGQLQAAAPI6CiekioVsAQAAAAonJMNVPUwSvUwAAADIHSic4MBVPUyMYwIAAEBuQuEESdd7mWat3q83Vu7L1HFYyBYAAAC5EYUTFBUTq7Hf7NHxuKuZOg4L2QIAACC3onDK41jIFgAAAEgbhVMeZbUZbTpwWi8u3s1CtgAAAEAaKJzyICaAAAAAAJxD4ZSHuGoCCKYYBwAAQF5D4ZRHuGICCHqYAAAAkFdROOVirlrIlh4mAAAA5HUUTrmUq8YxPRtRWUNbVaaHCQAAAHkahVMuwzgmAAAAwPUonHIRV4xjKhTgo9m96+uOCkXpZQIAAAD+H4VTDueqcUzS9YVspzxQS80qFXNJbAAAAEBuQeGUg7lqHJPErXkAAABAaiiccqiomFgNmr9NxgXHYgIIAAAAIHUUTjlQ/DWbRi6NyXTRRC8TAAAAkD4UTjlMVEysRi7drTMXEzJ8DBayBQAAAJxD4ZQDsJAtAAAA4FkUTtkcC9kCAAAAnkfhlE2xkC0AAACQfVA4ZUOuWMiWcUwAAACA61A4ZRNWm9EvB05nehxT0fy+mti1Jj1MAAAAgAtROGUDO09bNPn19ZnqYZKkIvl9FB3ZWr75vFwUGQAAAACJwsnjlu85obn7vCRlvGhKvBFvUtdaFE0AAACAG1A4eVD8NZtGf/Nrpo8TygQQAAAAgFtROHmIfSHbSwm60WfkHCaAAAAAALIGhZMHRMXEatD8bTIZfD5TjAMAAABZK1sMiJk9e7bCw8Pl7++vxo0ba8uWLam2X7RokW677Tb5+/urVq1a+v7777Mo0syz2ozGfftrhoumZyMqa8OIVhRNAAAAQBbyeOG0cOFCDRs2TGPGjNG2bdtUp04dtWvXTidPnky2/caNG9WzZ08NGDBA27dvV5cuXdSlSxfFxMRkceQZs+XgGcWeu+L088KC/TXn4fp6OqIKt+UBAAAAWczjhdP06dM1cOBA9e/fX9WrV9ecOXMUGBiouXPnJtt+5syZat++vZ5//nlVq1ZNEyZMUP369TVr1qwsjjxjTp53rmga0Cxcnw28g14mAAAAwIM8OsYpPj5eW7duVWRkpH2bl5eXIiIiFB0dnexzoqOjNWzYMIdt7dq101dffZVs+6tXr+rq1RtTfcfFxUmSEhISlJCQkMlX4LyigelLeZH8Phrfqbra1SghSbJZr8lmdWdkuVPi79gTv+u8ghy7F/l1P3LsXuTX/cixe5Ff9/Nkjp05p0cLp3/++UdWq1UlSpRw2F6iRAn9/vvvyT7n+PHjybY/fvx4su0nT56scePGJdn+448/KjAwMIORZ5zNSIV8vXU2Xkp+Nj2j/Pmkl2pelvXwVn1/OIsDzKVWrFjh6RByPXLsXuTX/cixe5Ff9yPH7kV+3c8TOb506VK62+b6WfUiIyMdeqji4uJUpkwZtW3bVkFBQR6JySf8hJ78fKckOUwSYfn//53arY69pwmZk5CQoBUrVqhNmzby8fHxdDi5Ejl2L/LrfuTYvciv+5Fj9yK/7ufJHCfejZYeHi2cihUrJm9vb504ccJh+4kTJxQaGprsc0JDQ51q7+fnJz8/vyTbfXx8PHbx31u3tPLl89a4b391mCiChWzdx5O/77yCHLsX+XU/cuxe5Nf9yLF7kV/380SOnTmfRyeH8PX1VYMGDbRq1Sr7NpvNplWrVqlJkybJPqdJkyYO7aXr3Xoptc+u2tcM04YRrTT/0YbqU9mq+Y82ZAIIAAAAIJvy+K16w4YNU9++fdWwYUM1atRIM2bM0MWLF9W/f39JUp8+fVSqVClNnjxZkvT000+rZcuWev3119WxY0d9/vnn+uWXX/Tee+958mVkiLeXRY3LF9Hp34waly/CNOMAAABANuXxwqlHjx46deqURo8erePHj6tu3bqKioqyTwBx5MgReXnd6Bhr2rSpFixYoJdfflkjR45U5cqV9dVXX6lmzZqeegkAAAAAcjmPF06SNHToUA0dOjTZfWvXrk2y7cEHH9SDDz7o5qgAAAAA4DqPL4ALAAAAANkdhRMAAAAApIHCCQAAAADSQOEEAAAAAGmgcAIAAACANFA4AQAAAEAaKJwAAAAAIA0UTgAAAACQBgonAAAAAEgDhRMAAAAApIHCCQAAAADSkM/TAWQ1Y4wkKS4uzsORXJeQkKBLly4pLi5OPj4+ng4n1yG/7keO3Yv8uh85di/y637k2L3Ir/t5MseJNUFijZCaPFc4nT9/XpJUpkwZD0cCAAAAIDs4f/68goODU21jMekpr3IRm82mY8eOqWDBgrJYLJ4OR3FxcSpTpoz++usvBQUFeTqcXIf8uh85di/y637k2L3Ir/uRY/civ+7nyRwbY3T+/HmVLFlSXl6pj2LKcz1OXl5eKl26tKfDSCIoKIg3oxuRX/cjx+5Fft2PHLsX+XU/cuxe5Nf9PJXjtHqaEjE5BAAAAACkgcIJAAAAANJA4eRhfn5+GjNmjPz8/DwdSq5Eft2PHLsX+XU/cuxe5Nf9yLF7kV/3yyk5znOTQwAAAACAs+hxAgAAAIA0UDgBAAAAQBoonAAAAAAgDRROAAAAAJAGCicPmj17tsLDw+Xv76/GjRtry5Ytng4pR5o8ebJuv/12FSxYUCEhIerSpYv27t3r0Oauu+6SxWJx+HniiSc8FHHOM3bs2CT5u+222+z7r1y5oiFDhqho0aIqUKCAHnjgAZ04ccKDEecs4eHhSfJrsVg0ZMgQSVy/GbF+/Xp16tRJJUuWlMVi0VdffeWw3xij0aNHKywsTAEBAYqIiNAff/zh0ObMmTPq3bu3goKCVKhQIQ0YMEAXLlzIwleRfaWW34SEBI0YMUK1atVS/vz5VbJkSfXp00fHjh1zOEZy1/2UKVOy+JVkX2ldw/369UuSv/bt2zu04RpOWVr5Te4z2WKx6NVXX7W34RpOWXq+m6Xnu8ORI0fUsWNHBQYGKiQkRM8//7yuXbuWlS/FAYWThyxcuFDDhg3TmDFjtG3bNtWpU0ft2rXTyZMnPR1ajrNu3ToNGTJEmzZt0ooVK5SQkKC2bdvq4sWLDu0GDhyo2NhY+8+0adM8FHHOVKNGDYf8bdiwwb7v2Wef1bfffqtFixZp3bp1OnbsmO6//34PRpuz/Pzzzw65XbFihSTpwQcftLfh+nXOxYsXVadOHc2ePTvZ/dOmTdObb76pOXPmaPPmzcqfP7/atWunK1eu2Nv07t1be/bs0YoVK/Tdd99p/fr1evzxx7PqJWRrqeX30qVL2rZtm0aNGqVt27ZpyZIl2rt3rzp37pyk7fjx4x2u6yeffDIrws8R0rqGJal9+/YO+fvss88c9nMNpyyt/N6c19jYWM2dO1cWi0UPPPCAQzuu4eSl57tZWt8drFarOnbsqPj4eG3cuFEfffSR5s2bp9GjR3viJV1n4BGNGjUyQ4YMsT+2Wq2mZMmSZvLkyR6MKnc4efKkkWTWrVtn39ayZUvz9NNPey6oHG7MmDGmTp06ye47e/as8fHxMYsWLbJv++2334wkEx0dnUUR5i5PP/20qVixorHZbMYYrt/MkmSWLl1qf2yz2UxoaKh59dVX7dvOnj1r/Pz8zGeffWaMMebXX381kszPP/9sb/PDDz8Yi8Vijh49mmWx5wS35jc5W7ZsMZLM4cOH7dvKlStn3njjDfcGl0skl+O+ffua++67L8XncA2nX3qu4fvuu8+0atXKYRvXcPrd+t0sPd8dvv/+e+Pl5WWOHz9ub/POO++YoKAgc/Xq1ax9Af+PHicPiI+P19atWxUREWHf5uXlpYiICEVHR3swstzh3LlzkqQiRYo4bP/0009VrFgx1axZU5GRkbp06ZInwsux/vjjD5UsWVIVKlRQ7969deTIEUnS1q1blZCQ4HA933bbbSpbtizXcwbEx8dr/vz5evTRR2WxWOzbuX5d5+DBgzp+/LjDNRscHKzGjRvbr9no6GgVKlRIDRs2tLeJiIiQl5eXNm/enOUx53Tnzp2TxWJRoUKFHLZPmTJFRYsWVb169fTqq6969BacnGjt2rUKCQlR1apVNWjQIJ0+fdq+j2vYdU6cOKFly5ZpwIABSfZxDafPrd/N0vPdITo6WrVq1VKJEiXsbdq1a6e4uDjt2bMnC6O/IZ9HzprH/fPPP7JarQ4XgiSVKFFCv//+u4eiyh1sNpueeeYZNWvWTDVr1rRv79Wrl8qVK6eSJUtq165dGjFihPbu3aslS5Z4MNqco3Hjxpo3b56qVq2q2NhYjRs3Ts2bN1dMTIyOHz8uX1/fJF+ISpQooePHj3sm4Bzsq6++0tmzZ9WvXz/7Nq5f10q8LpP7DE7cd/z4cYWEhDjsz5cvn4oUKcJ17aQrV65oxIgR6tmzp4KCguzbn3rqKdWvX19FihTRxo0bFRkZqdjYWE2fPt2D0eYc7du31/3336/y5cvrwIEDGjlypDp06KDo6Gh5e3tzDbvQRx99pIIFCya5BZ1rOH2S+26Wnu8Ox48fT/ZzOnGfJ1A4IVcZMmSIYmJiHMbfSHK4p7tWrVoKCwtT69atdeDAAVWsWDGrw8xxOnToYP937dq11bhxY5UrV05ffPGFAgICPBhZ7vPf//5XHTp0UMmSJe3buH6RUyUkJKh79+4yxuidd95x2Dds2DD7v2vXri1fX1/95z//0eTJk+Xn55fVoeY4Dz30kP3ftWrVUu3atVWxYkWtXbtWrVu39mBkuc/cuXPVu3dv+fv7O2znGk6flL6b5UTcqucBxYoVk7e3d5KZQ06cOKHQ0FAPRZXzDR06VN99953WrFmj0qVLp9q2cePGkqT9+/dnRWi5TqFChVSlShXt379foaGhio+P19mzZx3acD077/Dhw1q5cqUee+yxVNtx/WZO4nWZ2mdwaGhoksl6rl27pjNnznBdp1Ni0XT48GGtWLHCobcpOY0bN9a1a9d06NChrAkwl6lQoYKKFStm/1zgGnaN//3vf9q7d2+an8sS13ByUvpulp7vDqGhocl+Tifu8wQKJw/w9fVVgwYNtGrVKvs2m82mVatWqUmTJh6MLGcyxmjo0KFaunSpVq9erfLly6f5nB07dkiSwsLC3Bxd7nThwgUdOHBAYWFhatCggXx8fByu57179+rIkSNcz0768MMPFRISoo4dO6bajus3c8qXL6/Q0FCHazYuLk6bN2+2X7NNmjTR2bNntXXrVnub1atXy2az2QtXpCyxaPrjjz+0cuVKFS1aNM3n7NixQ15eXkluL0P6/P333zp9+rT9c4Fr2DX++9//qkGDBqpTp06abbmGb0jru1l6vjs0adJEu3fvdvgDQOIfYapXr541L+RWHpmSAubzzz83fn5+Zt68eebXX381jz/+uClUqJDDzCFIn0GDBpng4GCzdu1aExsba/+5dOmSMcaY/fv3m/Hjx5tffvnFHDx40Hz99demQoUKpkWLFh6OPOd47rnnzNq1a83BgwfNTz/9ZCIiIkyxYsXMyZMnjTHGPPHEE6Zs2bJm9erV5pdffjFNmjQxTZo08XDUOYvVajVly5Y1I0aMcNjO9Zsx58+fN9u3bzfbt283ksz06dPN9u3b7bO6TZkyxRQqVMh8/fXXZteuXea+++4z5cuXN5cvX7Yfo3379qZevXpm8+bNZsOGDaZy5cqmZ8+ennpJ2Upq+Y2PjzedO3c2pUuXNjt27HD4XE6cCWvjxo3mjTfeMDt27DAHDhww8+fPN8WLFzd9+vTx8CvLPlLL8fnz583w4cNNdHS0OXjwoFm5cqWpX7++qVy5srly5Yr9GFzDKUvrM8IYY86dO2cCAwPNO++8k+T5XMOpS+u7mTFpf3e4du2aqVmzpmnbtq3ZsWOHiYqKMsWLFzeRkZGeeEnGGGMonDzorbfeMmXLljW+vr6mUaNGZtOmTZ4OKUeSlOzPhx9+aIwx5siRI6ZFixamSJEixs/Pz1SqVMk8//zz5ty5c54NPAfp0aOHCQsLM76+vqZUqVKmR48eZv/+/fb9ly9fNoMHDzaFCxc2gYGBpmvXriY2NtaDEec8y5cvN5LM3r17HbZz/WbMmjVrkv1c6Nu3rzHm+pTko0aNMiVKlDB+fn6mdevWSXJ/+vRp07NnT1OgQAETFBRk+vfvb86fP++BV5P9pJbfgwcPpvi5vGbNGmOMMVu3bjWNGzc2wcHBxt/f31SrVs1MmjTJ4Ut/Xpdaji9dumTatm1rihcvbnx8fEy5cuXMwIEDk/zxlWs4ZWl9RhhjzLvvvmsCAgLM2bNnkzyfazh1aX03MyZ93x0OHTpkOnToYAICAkyxYsXMc889ZxISErL41dxgMcYYN3VmAQAAAECuwBgnAAAAAEgDhRMAAAAApIHCCQAAAADSQOEEAAAAAGmgcAIAAACANFA4AQAAAEAaKJwAAAAAIA0UTgAAAACQBgonAIDTDh06JIvFoh07dng6FLvff/9dd9xxh/z9/VW3bl1PhwMAyGUonAAgB+rXr58sFoumTJnisP2rr76SxWLxUFSeNWbMGOXPn1979+7VqlWrUmx3/PhxPfnkk6pQoYL8/PxUpkwZderUKdXn5EX9+vVTly5dPB0GAGQbFE4AkEP5+/tr6tSp+vfffz0disvEx8dn+LkHDhzQnXfeqXLlyqlo0aLJtjl06JAaNGig1atX69VXX9Xu3bsVFRWlu+++W0OGDMnwuQEAuR+FEwDkUBEREQoNDdXkyZNTbDN27Ngkt63NmDFD4eHh9seJPQuTJk1SiRIlVKhQIY0fP17Xrl3T888/ryJFiqh06dL68MMPkxz/999/V9OmTeXv76+aNWtq3bp1DvtjYmLUoUMHFShQQCVKlNAjjzyif/75x77/rrvu0tChQ/XMM8+oWLFiateuXbKvw2azafz48SpdurT8/PxUt25dRUVF2fdbLBZt3bpV48ePl8Vi0dixY5M9zuDBg2WxWLRlyxY98MADqlKlimrUqKFhw4Zp06ZN9nZHjhzRfffdpwIFCigoKEjdu3fXiRMnkuR17ty5Klu2rAoUKKDBgwfLarVq2rRpCg0NVUhIiCZOnOhwfovFonfeeUcdOnRQQECAKlSooC+//NKhze7du9WqVSsFBASoaNGievzxx3XhwoUkv6/XXntNYWFhKlq0qIYMGaKEhAR7m6tXr2r48OEqVaqU8ufPr8aNG2vt2rX2/fPmzVOhQoW0fPlyVatWTQUKFFD79u0VGxtrf30fffSRvv76a1ksFlksFq1du1bx8fEaOnSowsLC5O/vr3LlyqV6/QFAbkLhBAA5lLe3tyZNmqS33npLf//9d6aOtXr1ah07dkzr16/X9OnTNWbMGN17770qXLiwNm/erCeeeEL/+c9/kpzn+eef13PPPaft27erSZMm6tSpk06fPi1JOnv2rFq1aqV69erpl19+UVRUlE6cOKHu3bs7HOOjjz6Sr6+vfvrpJ82ZMyfZ+GbOnKnXX39dr732mnbt2qV27dqpc+fO+uOPPyRJsbGxqlGjhp577jnFxsZq+PDhSY5x5swZRUVFaciQIcqfP3+S/YUKFZJ0vUi77777dObMGa1bt04rVqzQn3/+qR49eji0P3DggH744QdFRUXps88+03//+1917NhRf//9t9atW6epU6fq5Zdf1ubNmx2eN2rUKD3wwAPauXOnevfurYceeki//fabJOnixYtq166dChcurJ9//lmLFi3SypUrNXToUIdjrFmzRgcOHNCaNWv00Ucfad68eZo3b559/9ChQxUdHa3PP/9cu3bt0oMPPqj27dvb8yVJly5d0muvvaZPPvlE69ev15EjR+x5Gz58uLp3724vpmJjY9W0aVO9+eab+uabb/TFF19o7969+vTTTx2KcADI1QwAIMfp27evue+++4wxxtxxxx3m0UcfNcYYs3TpUnPzR/uYMWNMnTp1HJ77xhtvmHLlyjkcq1y5csZqtdq3Va1a1TRv3tz++Nq1ayZ//vzms88+M8YYc/DgQSPJTJkyxd4mISHBlC5d2kydOtUYY8yECRNM27ZtHc79119/GUlm7969xhhjWrZsaerVq5fm6y1ZsqSZOHGiw7bbb7/dDB482P64Tp06ZsyYMSkeY/PmzUaSWbJkSarn+vHHH423t7c5cuSIfduePXuMJLNlyxZjzPW8BgYGmri4OHubdu3amfDw8CR5nDx5sv2xJPPEE084nK9x48Zm0KBBxhhj3nvvPVO4cGFz4cIF+/5ly5YZLy8vc/z4cWPMjd/XtWvX7G0efPBB06NHD2OMMYcPHzbe3t7m6NGjDudp3bq1iYyMNMYY8+GHHxpJZv/+/fb9s2fPNiVKlLA/vvkaS/Tkk0+aVq1aGZvNlmL+ACC3oscJAHK4qVOn6qOPPrL3WmREjRo15OV14z8JJUqUUK1ateyPvb29VbRoUZ08edLheU2aNLH/O1++fGrYsKE9jp07d2rNmjUqUKCA/ee2226TdL23JlGDBg1SjS0uLk7Hjh1Ts2bNHLY3a9bMqddsjElXu99++01lypRRmTJl7NuqV6+uQoUKOZwvPDxcBQsWtD8uUaKEqlevniSPqeUs8XHicX/77TfVqVPHoUesWbNmstls2rt3r31bjRo15O3tbX8cFhZmP8/u3btltVpVpUoVh9yvW7fOIe+BgYGqWLFissdISb9+/bRjxw5VrVpVTz31lH788cdU2wNAbpLP0wEAADKnRYsWateunSIjI9WvXz+HfV5eXkkKhpvHwiTy8fFxeGyxWJLdZrPZ0h3XhQsX1KlTJ02dOjXJvrCwMPu/k7ttzh0qV64si8Wi33//3SXHc0fOMnPuxPNcuHBB3t7e2rp1q0NxJUkFChRI9RhpFZf169fXwYMH9cMPP2jlypXq3r27IiIikozTAoDciB4nAMgFpkyZom+//VbR0dEO24sXL67jx487fCF25dpLN0+ocO3aNW3dulXVqlWTdP1L9p49exQeHq5KlSo5/DhTLAUFBalkyZL66aefHLb/9NNPql69erqPU6RIEbVr106zZ8/WxYsXk+w/e/asJKlatWr666+/9Ndff9n3/frrrzp79qxT50vJzTlLfJyYs2rVqmnnzp0O8f3000/y8vJS1apV03X8evXqyWq16uTJk0nyHhoamu44fX19ZbVak2wPCgpSjx499P7772vhwoVavHixzpw5k+7jAkBOReEEALlArVq11Lt3b7355psO2++66y6dOnVK06ZN04EDBzR79mz98MMPLjvv7NmztXTpUv3+++8aMmSI/v33Xz366KOSpCFDhujMmTPq2bOnfv75Zx04cEDLly9X//79k/1Cnprnn39eU6dO1cKFC7V37169+OKL2rFjh55++mmn47VarWrUqJEWL16sP/74Q7/99pvefPNN+y10ERER9nxu27ZNW7ZsUZ8+fdSyZUs1bNjQqfMlZ9GiRZo7d6727dunMWPGaMuWLfbJH3r37i1/f3/17dtXMTExWrNmjZ588kk98sgjKlGiRLqOX6VKFfXu3Vt9+vTRkiVLdPDgQW3ZskWTJ0/WsmXL0h1neHi4du3apb179+qff/5RQkKCpk+frs8++0y///679u3bp0WLFik0NNQ+sQYA5GYUTgCQS4wfPz7JbWHVqlXT22+/rdmzZ6tOnTrasmVLsjPOZdSUKVM0ZcoU1alTRxs2bNA333yjYsWKSZK9l8hqtapt27aqVauWnnnmGRUqVMhhHFB6PPXUUxo2bJiee+451apVS1FRUfrmm29UuXJlp45ToUIFbdu2TXfffbeee+451axZU23atNGqVav0zjvvSLp+y9rXX3+twoULq0WLFoqIiFCFChW0cOFCp86VknHjxunzzz9X7dq19fHHH+uzzz6z92QFBgZq+fLlOnPmjG6//XZ169ZNrVu31qxZs5w6x4cffqg+ffroueeeU9WqVdWlSxf9/PPPKlu2bLqPMXDgQFWtWlUNGzZU8eLF9dNPP6lgwYKaNm2aGjZsqNtvv12HDh3S999/7/TvEwByIotJ72hZAACQKRaLRUuXLlWXLl08HQoAwEn8iQgAAAAA0kDhBAAAAABpYDpyAACyCHfHA0DORY8TAAAAAKSBwgkAAAAA0kDhBAAAAABpoHACAAAAgDRQOAEAAABAGiicAAAAACANFE4AAAAAkAYKJwAAAABIw/8B9UBwGcEfXKcAAAAASUVORK5CYII=",
      "text/plain": [
       "<Figure size 1000x600 with 1 Axes>"
      ]
     },
     "metadata": {},
     "output_type": "display_data"
    }
   ],
   "source": [
    "var_ratio_cumsum = np.cumsum(pca.explained_variance_ratio_)\n",
    "plt.figure(figsize=(10, 6))\n",
    "plt.plot(var_ratio_cumsum, marker='o')\n",
    "plt.axhline(0.95, color='r', linestyle='--', label='95% Variance')\n",
    "plt.title('Explained Variance vs. Number of PCA Components')\n",
    "plt.xlabel('Number of Components')\n",
    "plt.ylabel('Cumulative Explained Variance')\n",
    "plt.legend()\n",
    "plt.grid()\n",
    "plt.show()"
   ]
  },
  {
   "cell_type": "code",
   "execution_count": 46,
   "metadata": {},
   "outputs": [
    {
     "name": "stdout",
     "output_type": "stream",
     "text": [
      "Number of components to retain 95% variance: 190\n"
     ]
    }
   ],
   "source": [
    "n_components = np.argmax(var_ratio_cumsum >= 0.95) + 1\n",
    "print(f\"Number of components to retain 95% variance: {n_components}\")\n"
   ]
  },
  {
   "cell_type": "code",
   "execution_count": 47,
   "metadata": {},
   "outputs": [],
   "source": [
    "pca_optimal = PCA(n_components=n_components)\n",
    "X_train_pca_optimal = pca_optimal.fit_transform(X_train_scaled)\n",
    "X_test_pca_optimal = pca_optimal.transform(X_test_scaled)"
   ]
  },
  {
   "cell_type": "code",
   "execution_count": 48,
=======
   "execution_count": 4,
>>>>>>> ef994509ecf801a3bdbe1688bb7fb79866967a82
   "metadata": {},
   "outputs": [
    {
     "data": {
      "text/html": [
<<<<<<< HEAD
       "<style>#sk-container-id-3 {\n",
       "  /* Definition of color scheme common for light and dark mode */\n",
       "  --sklearn-color-text: black;\n",
       "  --sklearn-color-line: gray;\n",
       "  /* Definition of color scheme for unfitted estimators */\n",
       "  --sklearn-color-unfitted-level-0: #fff5e6;\n",
       "  --sklearn-color-unfitted-level-1: #f6e4d2;\n",
       "  --sklearn-color-unfitted-level-2: #ffe0b3;\n",
       "  --sklearn-color-unfitted-level-3: chocolate;\n",
       "  /* Definition of color scheme for fitted estimators */\n",
       "  --sklearn-color-fitted-level-0: #f0f8ff;\n",
       "  --sklearn-color-fitted-level-1: #d4ebff;\n",
       "  --sklearn-color-fitted-level-2: #b3dbfd;\n",
       "  --sklearn-color-fitted-level-3: cornflowerblue;\n",
       "\n",
       "  /* Specific color for light theme */\n",
       "  --sklearn-color-text-on-default-background: var(--sg-text-color, var(--theme-code-foreground, var(--jp-content-font-color1, black)));\n",
       "  --sklearn-color-background: var(--sg-background-color, var(--theme-background, var(--jp-layout-color0, white)));\n",
       "  --sklearn-color-border-box: var(--sg-text-color, var(--theme-code-foreground, var(--jp-content-font-color1, black)));\n",
       "  --sklearn-color-icon: #696969;\n",
       "\n",
       "  @media (prefers-color-scheme: dark) {\n",
       "    /* Redefinition of color scheme for dark theme */\n",
       "    --sklearn-color-text-on-default-background: var(--sg-text-color, var(--theme-code-foreground, var(--jp-content-font-color1, white)));\n",
       "    --sklearn-color-background: var(--sg-background-color, var(--theme-background, var(--jp-layout-color0, #111)));\n",
       "    --sklearn-color-border-box: var(--sg-text-color, var(--theme-code-foreground, var(--jp-content-font-color1, white)));\n",
       "    --sklearn-color-icon: #878787;\n",
       "  }\n",
       "}\n",
       "\n",
       "#sk-container-id-3 {\n",
       "  color: var(--sklearn-color-text);\n",
       "}\n",
       "\n",
       "#sk-container-id-3 pre {\n",
       "  padding: 0;\n",
       "}\n",
       "\n",
       "#sk-container-id-3 input.sk-hidden--visually {\n",
       "  border: 0;\n",
       "  clip: rect(1px 1px 1px 1px);\n",
       "  clip: rect(1px, 1px, 1px, 1px);\n",
       "  height: 1px;\n",
       "  margin: -1px;\n",
       "  overflow: hidden;\n",
       "  padding: 0;\n",
       "  position: absolute;\n",
       "  width: 1px;\n",
       "}\n",
       "\n",
       "#sk-container-id-3 div.sk-dashed-wrapped {\n",
       "  border: 1px dashed var(--sklearn-color-line);\n",
       "  margin: 0 0.4em 0.5em 0.4em;\n",
       "  box-sizing: border-box;\n",
       "  padding-bottom: 0.4em;\n",
       "  background-color: var(--sklearn-color-background);\n",
       "}\n",
       "\n",
       "#sk-container-id-3 div.sk-container {\n",
       "  /* jupyter's `normalize.less` sets `[hidden] { display: none; }`\n",
       "     but bootstrap.min.css set `[hidden] { display: none !important; }`\n",
       "     so we also need the `!important` here to be able to override the\n",
       "     default hidden behavior on the sphinx rendered scikit-learn.org.\n",
       "     See: https://github.com/scikit-learn/scikit-learn/issues/21755 */\n",
       "  display: inline-block !important;\n",
       "  position: relative;\n",
       "}\n",
       "\n",
       "#sk-container-id-3 div.sk-text-repr-fallback {\n",
       "  display: none;\n",
       "}\n",
       "\n",
       "div.sk-parallel-item,\n",
       "div.sk-serial,\n",
       "div.sk-item {\n",
       "  /* draw centered vertical line to link estimators */\n",
       "  background-image: linear-gradient(var(--sklearn-color-text-on-default-background), var(--sklearn-color-text-on-default-background));\n",
       "  background-size: 2px 100%;\n",
       "  background-repeat: no-repeat;\n",
       "  background-position: center center;\n",
       "}\n",
       "\n",
       "/* Parallel-specific style estimator block */\n",
       "\n",
       "#sk-container-id-3 div.sk-parallel-item::after {\n",
       "  content: \"\";\n",
       "  width: 100%;\n",
       "  border-bottom: 2px solid var(--sklearn-color-text-on-default-background);\n",
       "  flex-grow: 1;\n",
       "}\n",
       "\n",
       "#sk-container-id-3 div.sk-parallel {\n",
       "  display: flex;\n",
       "  align-items: stretch;\n",
       "  justify-content: center;\n",
       "  background-color: var(--sklearn-color-background);\n",
       "  position: relative;\n",
       "}\n",
       "\n",
       "#sk-container-id-3 div.sk-parallel-item {\n",
       "  display: flex;\n",
       "  flex-direction: column;\n",
       "}\n",
       "\n",
       "#sk-container-id-3 div.sk-parallel-item:first-child::after {\n",
       "  align-self: flex-end;\n",
       "  width: 50%;\n",
       "}\n",
       "\n",
       "#sk-container-id-3 div.sk-parallel-item:last-child::after {\n",
       "  align-self: flex-start;\n",
       "  width: 50%;\n",
       "}\n",
       "\n",
       "#sk-container-id-3 div.sk-parallel-item:only-child::after {\n",
       "  width: 0;\n",
       "}\n",
       "\n",
       "/* Serial-specific style estimator block */\n",
       "\n",
       "#sk-container-id-3 div.sk-serial {\n",
       "  display: flex;\n",
       "  flex-direction: column;\n",
       "  align-items: center;\n",
       "  background-color: var(--sklearn-color-background);\n",
       "  padding-right: 1em;\n",
       "  padding-left: 1em;\n",
       "}\n",
       "\n",
       "\n",
       "/* Toggleable style: style used for estimator/Pipeline/ColumnTransformer box that is\n",
       "clickable and can be expanded/collapsed.\n",
       "- Pipeline and ColumnTransformer use this feature and define the default style\n",
       "- Estimators will overwrite some part of the style using the `sk-estimator` class\n",
       "*/\n",
       "\n",
       "/* Pipeline and ColumnTransformer style (default) */\n",
       "\n",
       "#sk-container-id-3 div.sk-toggleable {\n",
       "  /* Default theme specific background. It is overwritten whether we have a\n",
       "  specific estimator or a Pipeline/ColumnTransformer */\n",
       "  background-color: var(--sklearn-color-background);\n",
       "}\n",
       "\n",
       "/* Toggleable label */\n",
       "#sk-container-id-3 label.sk-toggleable__label {\n",
       "  cursor: pointer;\n",
       "  display: block;\n",
       "  width: 100%;\n",
       "  margin-bottom: 0;\n",
       "  padding: 0.5em;\n",
       "  box-sizing: border-box;\n",
       "  text-align: center;\n",
       "}\n",
       "\n",
       "#sk-container-id-3 label.sk-toggleable__label-arrow:before {\n",
       "  /* Arrow on the left of the label */\n",
       "  content: \"▸\";\n",
       "  float: left;\n",
       "  margin-right: 0.25em;\n",
       "  color: var(--sklearn-color-icon);\n",
       "}\n",
       "\n",
       "#sk-container-id-3 label.sk-toggleable__label-arrow:hover:before {\n",
       "  color: var(--sklearn-color-text);\n",
       "}\n",
       "\n",
       "/* Toggleable content - dropdown */\n",
       "\n",
       "#sk-container-id-3 div.sk-toggleable__content {\n",
       "  max-height: 0;\n",
       "  max-width: 0;\n",
       "  overflow: hidden;\n",
       "  text-align: left;\n",
       "  /* unfitted */\n",
       "  background-color: var(--sklearn-color-unfitted-level-0);\n",
       "}\n",
       "\n",
       "#sk-container-id-3 div.sk-toggleable__content.fitted {\n",
       "  /* fitted */\n",
       "  background-color: var(--sklearn-color-fitted-level-0);\n",
       "}\n",
       "\n",
       "#sk-container-id-3 div.sk-toggleable__content pre {\n",
       "  margin: 0.2em;\n",
       "  border-radius: 0.25em;\n",
       "  color: var(--sklearn-color-text);\n",
       "  /* unfitted */\n",
       "  background-color: var(--sklearn-color-unfitted-level-0);\n",
       "}\n",
       "\n",
       "#sk-container-id-3 div.sk-toggleable__content.fitted pre {\n",
       "  /* unfitted */\n",
       "  background-color: var(--sklearn-color-fitted-level-0);\n",
       "}\n",
       "\n",
       "#sk-container-id-3 input.sk-toggleable__control:checked~div.sk-toggleable__content {\n",
       "  /* Expand drop-down */\n",
       "  max-height: 200px;\n",
       "  max-width: 100%;\n",
       "  overflow: auto;\n",
       "}\n",
       "\n",
       "#sk-container-id-3 input.sk-toggleable__control:checked~label.sk-toggleable__label-arrow:before {\n",
       "  content: \"▾\";\n",
       "}\n",
       "\n",
       "/* Pipeline/ColumnTransformer-specific style */\n",
       "\n",
       "#sk-container-id-3 div.sk-label input.sk-toggleable__control:checked~label.sk-toggleable__label {\n",
       "  color: var(--sklearn-color-text);\n",
       "  background-color: var(--sklearn-color-unfitted-level-2);\n",
       "}\n",
       "\n",
       "#sk-container-id-3 div.sk-label.fitted input.sk-toggleable__control:checked~label.sk-toggleable__label {\n",
       "  background-color: var(--sklearn-color-fitted-level-2);\n",
       "}\n",
       "\n",
       "/* Estimator-specific style */\n",
       "\n",
       "/* Colorize estimator box */\n",
       "#sk-container-id-3 div.sk-estimator input.sk-toggleable__control:checked~label.sk-toggleable__label {\n",
       "  /* unfitted */\n",
       "  background-color: var(--sklearn-color-unfitted-level-2);\n",
       "}\n",
       "\n",
       "#sk-container-id-3 div.sk-estimator.fitted input.sk-toggleable__control:checked~label.sk-toggleable__label {\n",
       "  /* fitted */\n",
       "  background-color: var(--sklearn-color-fitted-level-2);\n",
       "}\n",
       "\n",
       "#sk-container-id-3 div.sk-label label.sk-toggleable__label,\n",
       "#sk-container-id-3 div.sk-label label {\n",
       "  /* The background is the default theme color */\n",
       "  color: var(--sklearn-color-text-on-default-background);\n",
       "}\n",
       "\n",
       "/* On hover, darken the color of the background */\n",
       "#sk-container-id-3 div.sk-label:hover label.sk-toggleable__label {\n",
       "  color: var(--sklearn-color-text);\n",
       "  background-color: var(--sklearn-color-unfitted-level-2);\n",
       "}\n",
       "\n",
       "/* Label box, darken color on hover, fitted */\n",
       "#sk-container-id-3 div.sk-label.fitted:hover label.sk-toggleable__label.fitted {\n",
       "  color: var(--sklearn-color-text);\n",
       "  background-color: var(--sklearn-color-fitted-level-2);\n",
       "}\n",
       "\n",
       "/* Estimator label */\n",
       "\n",
       "#sk-container-id-3 div.sk-label label {\n",
       "  font-family: monospace;\n",
       "  font-weight: bold;\n",
       "  display: inline-block;\n",
       "  line-height: 1.2em;\n",
       "}\n",
       "\n",
       "#sk-container-id-3 div.sk-label-container {\n",
       "  text-align: center;\n",
       "}\n",
       "\n",
       "/* Estimator-specific */\n",
       "#sk-container-id-3 div.sk-estimator {\n",
       "  font-family: monospace;\n",
       "  border: 1px dotted var(--sklearn-color-border-box);\n",
       "  border-radius: 0.25em;\n",
       "  box-sizing: border-box;\n",
       "  margin-bottom: 0.5em;\n",
       "  /* unfitted */\n",
       "  background-color: var(--sklearn-color-unfitted-level-0);\n",
       "}\n",
       "\n",
       "#sk-container-id-3 div.sk-estimator.fitted {\n",
       "  /* fitted */\n",
       "  background-color: var(--sklearn-color-fitted-level-0);\n",
       "}\n",
       "\n",
       "/* on hover */\n",
       "#sk-container-id-3 div.sk-estimator:hover {\n",
       "  /* unfitted */\n",
       "  background-color: var(--sklearn-color-unfitted-level-2);\n",
       "}\n",
       "\n",
       "#sk-container-id-3 div.sk-estimator.fitted:hover {\n",
       "  /* fitted */\n",
       "  background-color: var(--sklearn-color-fitted-level-2);\n",
       "}\n",
       "\n",
       "/* Specification for estimator info (e.g. \"i\" and \"?\") */\n",
       "\n",
       "/* Common style for \"i\" and \"?\" */\n",
       "\n",
       ".sk-estimator-doc-link,\n",
       "a:link.sk-estimator-doc-link,\n",
       "a:visited.sk-estimator-doc-link {\n",
       "  float: right;\n",
       "  font-size: smaller;\n",
       "  line-height: 1em;\n",
       "  font-family: monospace;\n",
       "  background-color: var(--sklearn-color-background);\n",
       "  border-radius: 1em;\n",
       "  height: 1em;\n",
       "  width: 1em;\n",
       "  text-decoration: none !important;\n",
       "  margin-left: 1ex;\n",
       "  /* unfitted */\n",
       "  border: var(--sklearn-color-unfitted-level-1) 1pt solid;\n",
       "  color: var(--sklearn-color-unfitted-level-1);\n",
       "}\n",
       "\n",
       ".sk-estimator-doc-link.fitted,\n",
       "a:link.sk-estimator-doc-link.fitted,\n",
       "a:visited.sk-estimator-doc-link.fitted {\n",
       "  /* fitted */\n",
       "  border: var(--sklearn-color-fitted-level-1) 1pt solid;\n",
       "  color: var(--sklearn-color-fitted-level-1);\n",
       "}\n",
       "\n",
       "/* On hover */\n",
       "div.sk-estimator:hover .sk-estimator-doc-link:hover,\n",
       ".sk-estimator-doc-link:hover,\n",
       "div.sk-label-container:hover .sk-estimator-doc-link:hover,\n",
       ".sk-estimator-doc-link:hover {\n",
       "  /* unfitted */\n",
       "  background-color: var(--sklearn-color-unfitted-level-3);\n",
       "  color: var(--sklearn-color-background);\n",
       "  text-decoration: none;\n",
       "}\n",
       "\n",
       "div.sk-estimator.fitted:hover .sk-estimator-doc-link.fitted:hover,\n",
       ".sk-estimator-doc-link.fitted:hover,\n",
       "div.sk-label-container:hover .sk-estimator-doc-link.fitted:hover,\n",
       ".sk-estimator-doc-link.fitted:hover {\n",
       "  /* fitted */\n",
       "  background-color: var(--sklearn-color-fitted-level-3);\n",
       "  color: var(--sklearn-color-background);\n",
       "  text-decoration: none;\n",
       "}\n",
       "\n",
       "/* Span, style for the box shown on hovering the info icon */\n",
       ".sk-estimator-doc-link span {\n",
       "  display: none;\n",
       "  z-index: 9999;\n",
       "  position: relative;\n",
       "  font-weight: normal;\n",
       "  right: .2ex;\n",
       "  padding: .5ex;\n",
       "  margin: .5ex;\n",
       "  width: min-content;\n",
       "  min-width: 20ex;\n",
       "  max-width: 50ex;\n",
       "  color: var(--sklearn-color-text);\n",
       "  box-shadow: 2pt 2pt 4pt #999;\n",
       "  /* unfitted */\n",
       "  background: var(--sklearn-color-unfitted-level-0);\n",
       "  border: .5pt solid var(--sklearn-color-unfitted-level-3);\n",
       "}\n",
       "\n",
       ".sk-estimator-doc-link.fitted span {\n",
       "  /* fitted */\n",
       "  background: var(--sklearn-color-fitted-level-0);\n",
       "  border: var(--sklearn-color-fitted-level-3);\n",
       "}\n",
       "\n",
       ".sk-estimator-doc-link:hover span {\n",
       "  display: block;\n",
       "}\n",
       "\n",
       "/* \"?\"-specific style due to the `<a>` HTML tag */\n",
       "\n",
       "#sk-container-id-3 a.estimator_doc_link {\n",
       "  float: right;\n",
       "  font-size: 1rem;\n",
       "  line-height: 1em;\n",
       "  font-family: monospace;\n",
       "  background-color: var(--sklearn-color-background);\n",
       "  border-radius: 1rem;\n",
       "  height: 1rem;\n",
       "  width: 1rem;\n",
       "  text-decoration: none;\n",
       "  /* unfitted */\n",
       "  color: var(--sklearn-color-unfitted-level-1);\n",
       "  border: var(--sklearn-color-unfitted-level-1) 1pt solid;\n",
       "}\n",
       "\n",
       "#sk-container-id-3 a.estimator_doc_link.fitted {\n",
       "  /* fitted */\n",
       "  border: var(--sklearn-color-fitted-level-1) 1pt solid;\n",
       "  color: var(--sklearn-color-fitted-level-1);\n",
       "}\n",
       "\n",
       "/* On hover */\n",
       "#sk-container-id-3 a.estimator_doc_link:hover {\n",
       "  /* unfitted */\n",
       "  background-color: var(--sklearn-color-unfitted-level-3);\n",
       "  color: var(--sklearn-color-background);\n",
       "  text-decoration: none;\n",
       "}\n",
       "\n",
       "#sk-container-id-3 a.estimator_doc_link.fitted:hover {\n",
       "  /* fitted */\n",
       "  background-color: var(--sklearn-color-fitted-level-3);\n",
       "}\n",
       "</style><div id=\"sk-container-id-3\" class=\"sk-top-container\"><div class=\"sk-text-repr-fallback\"><pre>GridSearchCV(cv=5, estimator=KNeighborsClassifier(), n_jobs=-1,\n",
       "             param_grid={&#x27;n_neighbors&#x27;: [3, 5, 7],\n",
       "                         &#x27;weights&#x27;: [&#x27;uniform&#x27;, &#x27;distance&#x27;]},\n",
       "             scoring=&#x27;accuracy&#x27;)</pre><b>In a Jupyter environment, please rerun this cell to show the HTML representation or trust the notebook. <br />On GitHub, the HTML representation is unable to render, please try loading this page with nbviewer.org.</b></div><div class=\"sk-container\" hidden><div class=\"sk-item sk-dashed-wrapped\"><div class=\"sk-label-container\"><div class=\"sk-label fitted sk-toggleable\"><input class=\"sk-toggleable__control sk-hidden--visually\" id=\"sk-estimator-id-7\" type=\"checkbox\" ><label for=\"sk-estimator-id-7\" class=\"sk-toggleable__label fitted sk-toggleable__label-arrow fitted\">&nbsp;&nbsp;GridSearchCV<a class=\"sk-estimator-doc-link fitted\" rel=\"noreferrer\" target=\"_blank\" href=\"https://scikit-learn.org/1.5/modules/generated/sklearn.model_selection.GridSearchCV.html\">?<span>Documentation for GridSearchCV</span></a><span class=\"sk-estimator-doc-link fitted\">i<span>Fitted</span></span></label><div class=\"sk-toggleable__content fitted\"><pre>GridSearchCV(cv=5, estimator=KNeighborsClassifier(), n_jobs=-1,\n",
       "             param_grid={&#x27;n_neighbors&#x27;: [3, 5, 7],\n",
       "                         &#x27;weights&#x27;: [&#x27;uniform&#x27;, &#x27;distance&#x27;]},\n",
       "             scoring=&#x27;accuracy&#x27;)</pre></div> </div></div><div class=\"sk-parallel\"><div class=\"sk-parallel-item\"><div class=\"sk-item\"><div class=\"sk-label-container\"><div class=\"sk-label fitted sk-toggleable\"><input class=\"sk-toggleable__control sk-hidden--visually\" id=\"sk-estimator-id-8\" type=\"checkbox\" ><label for=\"sk-estimator-id-8\" class=\"sk-toggleable__label fitted sk-toggleable__label-arrow fitted\">best_estimator_: KNeighborsClassifier</label><div class=\"sk-toggleable__content fitted\"><pre>KNeighborsClassifier(n_neighbors=7)</pre></div> </div></div><div class=\"sk-serial\"><div class=\"sk-item\"><div class=\"sk-estimator fitted sk-toggleable\"><input class=\"sk-toggleable__control sk-hidden--visually\" id=\"sk-estimator-id-9\" type=\"checkbox\" ><label for=\"sk-estimator-id-9\" class=\"sk-toggleable__label fitted sk-toggleable__label-arrow fitted\">&nbsp;KNeighborsClassifier<a class=\"sk-estimator-doc-link fitted\" rel=\"noreferrer\" target=\"_blank\" href=\"https://scikit-learn.org/1.5/modules/generated/sklearn.neighbors.KNeighborsClassifier.html\">?<span>Documentation for KNeighborsClassifier</span></a></label><div class=\"sk-toggleable__content fitted\"><pre>KNeighborsClassifier(n_neighbors=7)</pre></div> </div></div></div></div></div></div></div></div></div>"
      ],
      "text/plain": [
       "GridSearchCV(cv=5, estimator=KNeighborsClassifier(), n_jobs=-1,\n",
       "             param_grid={'n_neighbors': [3, 5, 7],\n",
       "                         'weights': ['uniform', 'distance']},\n",
       "             scoring='accuracy')"
      ]
     },
     "execution_count": 48,
=======
       "<div>\n",
       "<style scoped>\n",
       "    .dataframe tbody tr th:only-of-type {\n",
       "        vertical-align: middle;\n",
       "    }\n",
       "\n",
       "    .dataframe tbody tr th {\n",
       "        vertical-align: top;\n",
       "    }\n",
       "\n",
       "    .dataframe thead th {\n",
       "        text-align: right;\n",
       "    }\n",
       "</style>\n",
       "<table border=\"1\" class=\"dataframe\">\n",
       "  <thead>\n",
       "    <tr style=\"text-align: right;\">\n",
       "      <th></th>\n",
       "      <th>version https://git-lfs.github.com/spec/v1</th>\n",
       "    </tr>\n",
       "  </thead>\n",
       "  <tbody>\n",
       "    <tr>\n",
       "      <th>count</th>\n",
       "      <td>2</td>\n",
       "    </tr>\n",
       "    <tr>\n",
       "      <th>unique</th>\n",
       "      <td>2</td>\n",
       "    </tr>\n",
       "    <tr>\n",
       "      <th>top</th>\n",
       "      <td>oid sha256:704545baab73fe42e2b3bcc7eb0aac3d2df...</td>\n",
       "    </tr>\n",
       "    <tr>\n",
       "      <th>freq</th>\n",
       "      <td>1</td>\n",
       "    </tr>\n",
       "  </tbody>\n",
       "</table>\n",
       "</div>"
      ],
      "text/plain": [
       "               version https://git-lfs.github.com/spec/v1\n",
       "count                                                   2\n",
       "unique                                                  2\n",
       "top     oid sha256:704545baab73fe42e2b3bcc7eb0aac3d2df...\n",
       "freq                                                    1"
      ]
     },
     "execution_count": 4,
>>>>>>> ef994509ecf801a3bdbe1688bb7fb79866967a82
     "metadata": {},
     "output_type": "execute_result"
    }
   ],
   "source": [
<<<<<<< HEAD
    "grid_knn_pca = GridSearchCV(knn, param_grid, cv=5, scoring='accuracy', n_jobs=-1)\n",
    "grid_knn_pca.fit(X_train_pca_optimal, y_train)"
=======
    "raw_data.describe()"
>>>>>>> ef994509ecf801a3bdbe1688bb7fb79866967a82
   ]
  },
  {
   "cell_type": "code",
<<<<<<< HEAD
   "execution_count": 49,
   "metadata": {},
   "outputs": [
    {
     "name": "stdout",
     "output_type": "stream",
     "text": [
      "Best Params (With PCA): {'n_neighbors': 7, 'weights': 'uniform'}\n"
=======
   "execution_count": 5,
   "metadata": {},
   "outputs": [
    {
     "ename": "KeyError",
     "evalue": "\"['target'] not found in axis\"",
     "output_type": "error",
     "traceback": [
      "\u001b[0;31m---------------------------------------------------------------------------\u001b[0m",
      "\u001b[0;31mKeyError\u001b[0m                                  Traceback (most recent call last)",
      "Cell \u001b[0;32mIn[5], line 1\u001b[0m\n\u001b[0;32m----> 1\u001b[0m x \u001b[38;5;241m=\u001b[39m \u001b[43mraw_data\u001b[49m\u001b[38;5;241;43m.\u001b[39;49m\u001b[43mdrop\u001b[49m\u001b[43m(\u001b[49m\u001b[43m[\u001b[49m\u001b[38;5;124;43m'\u001b[39;49m\u001b[38;5;124;43mtarget\u001b[39;49m\u001b[38;5;124;43m'\u001b[39;49m\u001b[43m]\u001b[49m\u001b[43m,\u001b[49m\u001b[43m \u001b[49m\u001b[43maxis\u001b[49m\u001b[38;5;241;43m=\u001b[39;49m\u001b[38;5;241;43m1\u001b[39;49m\u001b[43m)\u001b[49m\n\u001b[1;32m      2\u001b[0m y \u001b[38;5;241m=\u001b[39m raw_data[\u001b[38;5;124m'\u001b[39m\u001b[38;5;124mtarget\u001b[39m\u001b[38;5;124m'\u001b[39m]\n",
      "File \u001b[0;32m~/Semester 3/ITE-5310-Machine-Learning/MLProject/.venv/lib/python3.9/site-packages/pandas/core/frame.py:5581\u001b[0m, in \u001b[0;36mDataFrame.drop\u001b[0;34m(self, labels, axis, index, columns, level, inplace, errors)\u001b[0m\n\u001b[1;32m   5433\u001b[0m \u001b[38;5;28;01mdef\u001b[39;00m \u001b[38;5;21mdrop\u001b[39m(\n\u001b[1;32m   5434\u001b[0m     \u001b[38;5;28mself\u001b[39m,\n\u001b[1;32m   5435\u001b[0m     labels: IndexLabel \u001b[38;5;241m|\u001b[39m \u001b[38;5;28;01mNone\u001b[39;00m \u001b[38;5;241m=\u001b[39m \u001b[38;5;28;01mNone\u001b[39;00m,\n\u001b[0;32m   (...)\u001b[0m\n\u001b[1;32m   5442\u001b[0m     errors: IgnoreRaise \u001b[38;5;241m=\u001b[39m \u001b[38;5;124m\"\u001b[39m\u001b[38;5;124mraise\u001b[39m\u001b[38;5;124m\"\u001b[39m,\n\u001b[1;32m   5443\u001b[0m ) \u001b[38;5;241m-\u001b[39m\u001b[38;5;241m>\u001b[39m DataFrame \u001b[38;5;241m|\u001b[39m \u001b[38;5;28;01mNone\u001b[39;00m:\n\u001b[1;32m   5444\u001b[0m \u001b[38;5;250m    \u001b[39m\u001b[38;5;124;03m\"\"\"\u001b[39;00m\n\u001b[1;32m   5445\u001b[0m \u001b[38;5;124;03m    Drop specified labels from rows or columns.\u001b[39;00m\n\u001b[1;32m   5446\u001b[0m \n\u001b[0;32m   (...)\u001b[0m\n\u001b[1;32m   5579\u001b[0m \u001b[38;5;124;03m            weight  1.0     0.8\u001b[39;00m\n\u001b[1;32m   5580\u001b[0m \u001b[38;5;124;03m    \"\"\"\u001b[39;00m\n\u001b[0;32m-> 5581\u001b[0m     \u001b[38;5;28;01mreturn\u001b[39;00m \u001b[38;5;28;43msuper\u001b[39;49m\u001b[43m(\u001b[49m\u001b[43m)\u001b[49m\u001b[38;5;241;43m.\u001b[39;49m\u001b[43mdrop\u001b[49m\u001b[43m(\u001b[49m\n\u001b[1;32m   5582\u001b[0m \u001b[43m        \u001b[49m\u001b[43mlabels\u001b[49m\u001b[38;5;241;43m=\u001b[39;49m\u001b[43mlabels\u001b[49m\u001b[43m,\u001b[49m\n\u001b[1;32m   5583\u001b[0m \u001b[43m        \u001b[49m\u001b[43maxis\u001b[49m\u001b[38;5;241;43m=\u001b[39;49m\u001b[43maxis\u001b[49m\u001b[43m,\u001b[49m\n\u001b[1;32m   5584\u001b[0m \u001b[43m        \u001b[49m\u001b[43mindex\u001b[49m\u001b[38;5;241;43m=\u001b[39;49m\u001b[43mindex\u001b[49m\u001b[43m,\u001b[49m\n\u001b[1;32m   5585\u001b[0m \u001b[43m        \u001b[49m\u001b[43mcolumns\u001b[49m\u001b[38;5;241;43m=\u001b[39;49m\u001b[43mcolumns\u001b[49m\u001b[43m,\u001b[49m\n\u001b[1;32m   5586\u001b[0m \u001b[43m        \u001b[49m\u001b[43mlevel\u001b[49m\u001b[38;5;241;43m=\u001b[39;49m\u001b[43mlevel\u001b[49m\u001b[43m,\u001b[49m\n\u001b[1;32m   5587\u001b[0m \u001b[43m        \u001b[49m\u001b[43minplace\u001b[49m\u001b[38;5;241;43m=\u001b[39;49m\u001b[43minplace\u001b[49m\u001b[43m,\u001b[49m\n\u001b[1;32m   5588\u001b[0m \u001b[43m        \u001b[49m\u001b[43merrors\u001b[49m\u001b[38;5;241;43m=\u001b[39;49m\u001b[43merrors\u001b[49m\u001b[43m,\u001b[49m\n\u001b[1;32m   5589\u001b[0m \u001b[43m    \u001b[49m\u001b[43m)\u001b[49m\n",
      "File \u001b[0;32m~/Semester 3/ITE-5310-Machine-Learning/MLProject/.venv/lib/python3.9/site-packages/pandas/core/generic.py:4788\u001b[0m, in \u001b[0;36mNDFrame.drop\u001b[0;34m(self, labels, axis, index, columns, level, inplace, errors)\u001b[0m\n\u001b[1;32m   4786\u001b[0m \u001b[38;5;28;01mfor\u001b[39;00m axis, labels \u001b[38;5;129;01min\u001b[39;00m axes\u001b[38;5;241m.\u001b[39mitems():\n\u001b[1;32m   4787\u001b[0m     \u001b[38;5;28;01mif\u001b[39;00m labels \u001b[38;5;129;01mis\u001b[39;00m \u001b[38;5;129;01mnot\u001b[39;00m \u001b[38;5;28;01mNone\u001b[39;00m:\n\u001b[0;32m-> 4788\u001b[0m         obj \u001b[38;5;241m=\u001b[39m \u001b[43mobj\u001b[49m\u001b[38;5;241;43m.\u001b[39;49m\u001b[43m_drop_axis\u001b[49m\u001b[43m(\u001b[49m\u001b[43mlabels\u001b[49m\u001b[43m,\u001b[49m\u001b[43m \u001b[49m\u001b[43maxis\u001b[49m\u001b[43m,\u001b[49m\u001b[43m \u001b[49m\u001b[43mlevel\u001b[49m\u001b[38;5;241;43m=\u001b[39;49m\u001b[43mlevel\u001b[49m\u001b[43m,\u001b[49m\u001b[43m \u001b[49m\u001b[43merrors\u001b[49m\u001b[38;5;241;43m=\u001b[39;49m\u001b[43merrors\u001b[49m\u001b[43m)\u001b[49m\n\u001b[1;32m   4790\u001b[0m \u001b[38;5;28;01mif\u001b[39;00m inplace:\n\u001b[1;32m   4791\u001b[0m     \u001b[38;5;28mself\u001b[39m\u001b[38;5;241m.\u001b[39m_update_inplace(obj)\n",
      "File \u001b[0;32m~/Semester 3/ITE-5310-Machine-Learning/MLProject/.venv/lib/python3.9/site-packages/pandas/core/generic.py:4830\u001b[0m, in \u001b[0;36mNDFrame._drop_axis\u001b[0;34m(self, labels, axis, level, errors, only_slice)\u001b[0m\n\u001b[1;32m   4828\u001b[0m         new_axis \u001b[38;5;241m=\u001b[39m axis\u001b[38;5;241m.\u001b[39mdrop(labels, level\u001b[38;5;241m=\u001b[39mlevel, errors\u001b[38;5;241m=\u001b[39merrors)\n\u001b[1;32m   4829\u001b[0m     \u001b[38;5;28;01melse\u001b[39;00m:\n\u001b[0;32m-> 4830\u001b[0m         new_axis \u001b[38;5;241m=\u001b[39m \u001b[43maxis\u001b[49m\u001b[38;5;241;43m.\u001b[39;49m\u001b[43mdrop\u001b[49m\u001b[43m(\u001b[49m\u001b[43mlabels\u001b[49m\u001b[43m,\u001b[49m\u001b[43m \u001b[49m\u001b[43merrors\u001b[49m\u001b[38;5;241;43m=\u001b[39;49m\u001b[43merrors\u001b[49m\u001b[43m)\u001b[49m\n\u001b[1;32m   4831\u001b[0m     indexer \u001b[38;5;241m=\u001b[39m axis\u001b[38;5;241m.\u001b[39mget_indexer(new_axis)\n\u001b[1;32m   4833\u001b[0m \u001b[38;5;66;03m# Case for non-unique axis\u001b[39;00m\n\u001b[1;32m   4834\u001b[0m \u001b[38;5;28;01melse\u001b[39;00m:\n",
      "File \u001b[0;32m~/Semester 3/ITE-5310-Machine-Learning/MLProject/.venv/lib/python3.9/site-packages/pandas/core/indexes/base.py:7070\u001b[0m, in \u001b[0;36mIndex.drop\u001b[0;34m(self, labels, errors)\u001b[0m\n\u001b[1;32m   7068\u001b[0m \u001b[38;5;28;01mif\u001b[39;00m mask\u001b[38;5;241m.\u001b[39many():\n\u001b[1;32m   7069\u001b[0m     \u001b[38;5;28;01mif\u001b[39;00m errors \u001b[38;5;241m!=\u001b[39m \u001b[38;5;124m\"\u001b[39m\u001b[38;5;124mignore\u001b[39m\u001b[38;5;124m\"\u001b[39m:\n\u001b[0;32m-> 7070\u001b[0m         \u001b[38;5;28;01mraise\u001b[39;00m \u001b[38;5;167;01mKeyError\u001b[39;00m(\u001b[38;5;124mf\u001b[39m\u001b[38;5;124m\"\u001b[39m\u001b[38;5;132;01m{\u001b[39;00mlabels[mask]\u001b[38;5;241m.\u001b[39mtolist()\u001b[38;5;132;01m}\u001b[39;00m\u001b[38;5;124m not found in axis\u001b[39m\u001b[38;5;124m\"\u001b[39m)\n\u001b[1;32m   7071\u001b[0m     indexer \u001b[38;5;241m=\u001b[39m indexer[\u001b[38;5;241m~\u001b[39mmask]\n\u001b[1;32m   7072\u001b[0m \u001b[38;5;28;01mreturn\u001b[39;00m \u001b[38;5;28mself\u001b[39m\u001b[38;5;241m.\u001b[39mdelete(indexer)\n",
      "\u001b[0;31mKeyError\u001b[0m: \"['target'] not found in axis\""
>>>>>>> ef994509ecf801a3bdbe1688bb7fb79866967a82
     ]
    }
   ],
   "source": [
<<<<<<< HEAD
    "print(\"Best Params (With PCA):\", grid_knn_pca.best_params_)\n",
    "knn_pca_best = grid_knn_pca.best_estimator_\n",
    "y_pred_pca = knn_pca_best.predict(X_test_pca_optimal)"
   ]
  },
  {
   "cell_type": "code",
   "execution_count": 50,
   "metadata": {},
   "outputs": [
    {
     "name": "stdout",
     "output_type": "stream",
     "text": [
      "\n",
      "KNN (With PCA) Results:\n",
      "Accuracy: 0.899525\n",
      "Confusion Matrix:\n",
      " [[35980     0]\n",
      " [ 4019     1]]\n",
      "Classification Report:\n",
      "               precision    recall  f1-score   support\n",
      "\n",
      "           0       0.90      1.00      0.95     35980\n",
      "           1       1.00      0.00      0.00      4020\n",
      "\n",
      "    accuracy                           0.90     40000\n",
      "   macro avg       0.95      0.50      0.47     40000\n",
      "weighted avg       0.91      0.90      0.85     40000\n",
      "\n"
     ]
    }
   ],
   "source": [
    "print(\"\\nKNN (With PCA) Results:\")\n",
    "print(\"Accuracy:\", accuracy_score(y_test, y_pred_pca))\n",
    "print(\"Confusion Matrix:\\n\", confusion_matrix(y_test, y_pred_pca))\n",
    "print(\"Classification Report:\\n\", classification_report(y_test, y_pred_pca))"
   ]
  },
  {
   "cell_type": "code",
   "execution_count": 51,
   "metadata": {},
   "outputs": [
    {
     "name": "stdout",
     "output_type": "stream",
     "text": [
      "\n",
      "Comparison:\n",
      "Accuracy Without PCA: 0.89935\n",
      "Accuracy With PCA: 0.899525\n"
     ]
    }
   ],
   "source": [
    "print(\"\\nComparison:\")\n",
    "print(f\"Accuracy Without PCA: {accuracy_score(y_test, y_pred)}\")\n",
    "print(f\"Accuracy With PCA: {accuracy_score(y_test, y_pred_pca)}\")"
=======
    "x = raw_data.drop(['target'], axis=1)\n",
    "y = raw_data['target']"
>>>>>>> ef994509ecf801a3bdbe1688bb7fb79866967a82
   ]
  },
  {
   "cell_type": "code",
   "execution_count": null,
   "metadata": {},
<<<<<<< HEAD
   "outputs": [],
   "source": []
=======
   "outputs": [
    {
     "ename": "NameError",
     "evalue": "name 'x' is not defined",
     "output_type": "error",
     "traceback": [
      "\u001b[0;31m---------------------------------------------------------------------------\u001b[0m",
      "\u001b[0;31mNameError\u001b[0m                                 Traceback (most recent call last)",
      "Cell \u001b[0;32mIn[5], line 1\u001b[0m\n\u001b[0;32m----> 1\u001b[0m x_train, x_test, y_train, y_test \u001b[38;5;241m=\u001b[39m train_test_split(\u001b[43mx\u001b[49m, y, test_size\u001b[38;5;241m=\u001b[39m\u001b[38;5;241m0.2\u001b[39m, random_state\u001b[38;5;241m=\u001b[39m\u001b[38;5;241m42\u001b[39m)\n",
      "\u001b[0;31mNameError\u001b[0m: name 'x' is not defined"
     ]
    }
   ],
   "source": [
    "x_train, x_test, y_train, y_test = train_test_split(x, y, test_size=0.2, random_state=42)"
   ]
  },
  {
   "cell_type": "code",
   "execution_count": null,
   "metadata": {},
   "outputs": [
    {
     "ename": "NameError",
     "evalue": "name 'StandardScaler' is not defined",
     "output_type": "error",
     "traceback": [
      "\u001b[0;31m---------------------------------------------------------------------------\u001b[0m",
      "\u001b[0;31mNameError\u001b[0m                                 Traceback (most recent call last)",
      "Cell \u001b[0;32mIn[3], line 2\u001b[0m\n\u001b[1;32m      1\u001b[0m pipeline \u001b[38;5;241m=\u001b[39m Pipeline([\n\u001b[0;32m----> 2\u001b[0m     (\u001b[38;5;124m'\u001b[39m\u001b[38;5;124mscaler\u001b[39m\u001b[38;5;124m'\u001b[39m, \u001b[43mStandardScaler\u001b[49m()),\n\u001b[1;32m      3\u001b[0m     (\u001b[38;5;124m'\u001b[39m\u001b[38;5;124mpca\u001b[39m\u001b[38;5;124m'\u001b[39m, PCA(n_components\u001b[38;5;241m=\u001b[39m\u001b[38;5;241m0.9\u001b[39m)),\n\u001b[1;32m      4\u001b[0m     (\u001b[38;5;124m'\u001b[39m\u001b[38;5;124mknn\u001b[39m\u001b[38;5;124m'\u001b[39m, knn_model)\n\u001b[1;32m      5\u001b[0m ])\n",
      "\u001b[0;31mNameError\u001b[0m: name 'StandardScaler' is not defined"
     ]
    }
   ],
   "source": [
    "knn = KNeighborsClassifier(n_neighbors=5)"
   ]
>>>>>>> ef994509ecf801a3bdbe1688bb7fb79866967a82
  }
 ],
 "metadata": {
  "kernelspec": {
<<<<<<< HEAD
   "display_name": "Python 3",
=======
   "display_name": ".venv",
>>>>>>> ef994509ecf801a3bdbe1688bb7fb79866967a82
   "language": "python",
   "name": "python3"
  },
  "language_info": {
   "codemirror_mode": {
    "name": "ipython",
    "version": 3
   },
   "file_extension": ".py",
   "mimetype": "text/x-python",
   "name": "python",
   "nbconvert_exporter": "python",
   "pygments_lexer": "ipython3",
   "version": "3.9.6"
  }
 },
 "nbformat": 4,
 "nbformat_minor": 2
}
